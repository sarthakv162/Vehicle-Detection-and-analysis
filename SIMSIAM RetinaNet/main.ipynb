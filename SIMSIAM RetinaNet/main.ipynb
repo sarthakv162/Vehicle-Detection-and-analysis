{
 "cells": [
  {
   "cell_type": "markdown",
   "metadata": {},
   "source": [
    "# SimSiam + RetinaNet ResNet18"
   ]
  },
  {
   "cell_type": "code",
   "execution_count": null,
   "metadata": {
    "_cell_guid": "b1076dfc-b9ad-4769-8c92-a6c4dae69d19",
    "_uuid": "8f2839f25d086af736a60e9eeb907d3b93b6e0e5",
    "trusted": true
   },
   "outputs": [],
   "source": [
    "# This Python 3 environment comes with many helpful analytics libraries installed\n",
    "# It is defined by the kaggle/python Docker image: https://github.com/kaggle/docker-python\n",
    "# For example, here's several helpful packages to load\n",
    "\n",
    "import numpy as np # linear algebra\n",
    "import pandas as pd # data processing, CSV file I/O (e.g. pd.read_csv)\n",
    "\n",
    "# Input data files are available in the read-only \"../input/\" directory\n",
    "# For example, running this (by clicking run or pressing Shift+Enter) will list all files under the input directory\n",
    "\n",
    "import os\n",
    "for dirname, _, filenames in os.walk('/kaggle/input'):\n",
    "    for filename in filenames:\n",
    "        print(os.path.join(dirname, filename))\n",
    "\n",
    "# You can write up to 20GB to the current directory (/kaggle/working/) that gets preserved as output when you create a version using \"Save & Run All\" \n",
    "# You can also write temporary files to /kaggle/temp/, but they won't be saved outside of the current session"
   ]
  },
  {
   "cell_type": "code",
   "execution_count": null,
   "metadata": {},
   "outputs": [],
   "source": [
    "import matplotlib.pyplot as plt\n",
    "import matplotlib.patches as patches\n",
    "from PIL import Image\n",
    "import json\n",
    "import torch\n",
    "from torch.utils.data import DataLoader\n",
    "from torchvision import transforms as T\n",
    "from torchvision.datasets import CocoDetection\n",
    "from torchvision.models.detection import RetinaNet\n",
    "from torchvision.models.detection.backbone_utils import BackboneWithFPN\n",
    "from torchvision.models._utils import IntermediateLayerGetter\n",
    "import torchvision.models as tv_models\n",
    "from pycocotools.coco import COCO\n",
    "from pycocotools.cocoeval import COCOeval\n",
    "from tqdm import tqdm"
   ]
  },
  {
   "cell_type": "code",
   "execution_count": 1,
   "metadata": {
    "execution": {
     "iopub.execute_input": "2025-06-14T14:09:15.207985Z",
     "iopub.status.busy": "2025-06-14T14:09:15.207155Z",
     "iopub.status.idle": "2025-06-14T14:09:18.996301Z",
     "shell.execute_reply": "2025-06-14T14:09:18.995571Z",
     "shell.execute_reply.started": "2025-06-14T14:09:15.207947Z"
    },
    "trusted": true
   },
   "outputs": [
    {
     "name": "stdout",
     "output_type": "stream",
     "text": [
      "Requirement already satisfied: pycocotools in /usr/local/lib/python3.11/dist-packages (2.0.8)\n",
      "Requirement already satisfied: matplotlib>=2.1.0 in /usr/local/lib/python3.11/dist-packages (from pycocotools) (3.7.2)\n",
      "Requirement already satisfied: numpy in /usr/local/lib/python3.11/dist-packages (from pycocotools) (1.26.4)\n",
      "Requirement already satisfied: contourpy>=1.0.1 in /usr/local/lib/python3.11/dist-packages (from matplotlib>=2.1.0->pycocotools) (1.3.1)\n",
      "Requirement already satisfied: cycler>=0.10 in /usr/local/lib/python3.11/dist-packages (from matplotlib>=2.1.0->pycocotools) (0.12.1)\n",
      "Requirement already satisfied: fonttools>=4.22.0 in /usr/local/lib/python3.11/dist-packages (from matplotlib>=2.1.0->pycocotools) (4.57.0)\n",
      "Requirement already satisfied: kiwisolver>=1.0.1 in /usr/local/lib/python3.11/dist-packages (from matplotlib>=2.1.0->pycocotools) (1.4.8)\n",
      "Requirement already satisfied: packaging>=20.0 in /usr/local/lib/python3.11/dist-packages (from matplotlib>=2.1.0->pycocotools) (25.0)\n",
      "Requirement already satisfied: pillow>=6.2.0 in /usr/local/lib/python3.11/dist-packages (from matplotlib>=2.1.0->pycocotools) (11.1.0)\n",
      "Requirement already satisfied: pyparsing<3.1,>=2.3.1 in /usr/local/lib/python3.11/dist-packages (from matplotlib>=2.1.0->pycocotools) (3.0.9)\n",
      "Requirement already satisfied: python-dateutil>=2.7 in /usr/local/lib/python3.11/dist-packages (from matplotlib>=2.1.0->pycocotools) (2.9.0.post0)\n",
      "Requirement already satisfied: mkl_fft in /usr/local/lib/python3.11/dist-packages (from numpy->pycocotools) (1.3.8)\n",
      "Requirement already satisfied: mkl_random in /usr/local/lib/python3.11/dist-packages (from numpy->pycocotools) (1.2.4)\n",
      "Requirement already satisfied: mkl_umath in /usr/local/lib/python3.11/dist-packages (from numpy->pycocotools) (0.1.1)\n",
      "Requirement already satisfied: mkl in /usr/local/lib/python3.11/dist-packages (from numpy->pycocotools) (2025.1.0)\n",
      "Requirement already satisfied: tbb4py in /usr/local/lib/python3.11/dist-packages (from numpy->pycocotools) (2022.1.0)\n",
      "Requirement already satisfied: mkl-service in /usr/local/lib/python3.11/dist-packages (from numpy->pycocotools) (2.4.1)\n",
      "Requirement already satisfied: six>=1.5 in /usr/local/lib/python3.11/dist-packages (from python-dateutil>=2.7->matplotlib>=2.1.0->pycocotools) (1.17.0)\n",
      "Requirement already satisfied: intel-openmp<2026,>=2024 in /usr/local/lib/python3.11/dist-packages (from mkl->numpy->pycocotools) (2024.2.0)\n",
      "Requirement already satisfied: tbb==2022.* in /usr/local/lib/python3.11/dist-packages (from mkl->numpy->pycocotools) (2022.1.0)\n",
      "Requirement already satisfied: tcmlib==1.* in /usr/local/lib/python3.11/dist-packages (from tbb==2022.*->mkl->numpy->pycocotools) (1.3.0)\n",
      "Requirement already satisfied: intel-cmplr-lib-rt in /usr/local/lib/python3.11/dist-packages (from mkl_umath->numpy->pycocotools) (2024.2.0)\n",
      "Requirement already satisfied: intel-cmplr-lib-ur==2024.2.0 in /usr/local/lib/python3.11/dist-packages (from intel-openmp<2026,>=2024->mkl->numpy->pycocotools) (2024.2.0)\n"
     ]
    }
   ],
   "source": [
    "!pip install pycocotools"
   ]
  },
  {
   "cell_type": "code",
   "execution_count": 2,
   "metadata": {
    "execution": {
     "iopub.execute_input": "2025-06-14T14:09:18.998108Z",
     "iopub.status.busy": "2025-06-14T14:09:18.997852Z",
     "iopub.status.idle": "2025-06-14T14:09:22.904348Z",
     "shell.execute_reply": "2025-06-14T14:09:22.903646Z",
     "shell.execute_reply.started": "2025-06-14T14:09:18.998084Z"
    },
    "trusted": true
   },
   "outputs": [
    {
     "name": "stdout",
     "output_type": "stream",
     "text": [
      "Collecting yoco\n",
      "  Downloading yoco-1.2.0-py3-none-any.whl.metadata (1.5 kB)\n",
      "Collecting ruamel.yaml (from yoco)\n",
      "  Downloading ruamel.yaml-0.18.14-py3-none-any.whl.metadata (24 kB)\n",
      "Collecting ruamel.yaml.clib>=0.2.7 (from ruamel.yaml->yoco)\n",
      "  Downloading ruamel.yaml.clib-0.2.12-cp311-cp311-manylinux_2_17_x86_64.manylinux2014_x86_64.whl.metadata (2.7 kB)\n",
      "Downloading yoco-1.2.0-py3-none-any.whl (6.4 kB)\n",
      "Downloading ruamel.yaml-0.18.14-py3-none-any.whl (118 kB)\n",
      "\u001b[2K   \u001b[90m━━━━━━━━━━━━━━━━━━━━━━━━━━━━━━━━━━━━━━━━\u001b[0m \u001b[32m118.6/118.6 kB\u001b[0m \u001b[31m4.7 MB/s\u001b[0m eta \u001b[36m0:00:00\u001b[0m\n",
      "\u001b[?25hDownloading ruamel.yaml.clib-0.2.12-cp311-cp311-manylinux_2_17_x86_64.manylinux2014_x86_64.whl (739 kB)\n",
      "\u001b[2K   \u001b[90m━━━━━━━━━━━━━━━━━━━━━━━━━━━━━━━━━━━━━━━━\u001b[0m \u001b[32m739.1/739.1 kB\u001b[0m \u001b[31m28.4 MB/s\u001b[0m eta \u001b[36m0:00:00\u001b[0m\n",
      "\u001b[?25hInstalling collected packages: ruamel.yaml.clib, ruamel.yaml, yoco\n",
      "Successfully installed ruamel.yaml-0.18.14 ruamel.yaml.clib-0.2.12 yoco-1.2.0\n"
     ]
    }
   ],
   "source": [
    "!pip install yoco"
   ]
  },
  {
   "cell_type": "markdown",
   "metadata": {},
   "source": [
    "## Converstion"
   ]
  },
  {
   "cell_type": "code",
   "execution_count": 3,
   "metadata": {
    "execution": {
     "iopub.execute_input": "2025-06-14T14:18:03.757544Z",
     "iopub.status.busy": "2025-06-14T14:18:03.756886Z",
     "iopub.status.idle": "2025-06-14T14:18:13.927256Z",
     "shell.execute_reply": "2025-06-14T14:18:13.926501Z",
     "shell.execute_reply.started": "2025-06-14T14:18:03.757485Z"
    },
    "trusted": true
   },
   "outputs": [
    {
     "name": "stderr",
     "output_type": "stream",
     "text": [
      "100%|██████████| 536/536 [00:08<00:00, 65.65it/s]\n",
      "100%|██████████| 90/90 [00:01<00:00, 58.10it/s]\n"
     ]
    }
   ],
   "source": [
    "import os, json\n",
    "from tqdm import tqdm\n",
    "from PIL import Image\n",
    "\n",
    "def yolo_to_coco(yolo_dir, output_json_path):\n",
    "    image_dir = os.path.join(yolo_dir, 'images')\n",
    "    label_dir = os.path.join(yolo_dir, 'labels')\n",
    "    images = []\n",
    "    annotations = []\n",
    "    ann_id = 0\n",
    "    image_id = 0\n",
    "    categories = [{'id': 1, 'name': 'vehicle'}]\n",
    "\n",
    "    for img_name in tqdm(sorted(os.listdir(image_dir))):\n",
    "        if not img_name.endswith(('.jpg', '.png', '.jpeg')):\n",
    "            continue\n",
    "\n",
    "        img_path = os.path.join(image_dir, img_name)\n",
    "        label_path = os.path.join(label_dir, os.path.splitext(img_name)[0] + '.txt')\n",
    "        if not os.path.exists(label_path):\n",
    "            continue\n",
    "\n",
    "        img = Image.open(img_path)\n",
    "        w, h = img.size\n",
    "        images.append({'id': image_id, 'width': w, 'height': h, 'file_name': img_name})\n",
    "\n",
    "        with open(label_path, 'r') as f:\n",
    "            for line in f:\n",
    "                cls, xc, yc, bw, bh = map(float, line.strip().split())\n",
    "                x = (xc - bw / 2) * w\n",
    "                y = (yc - bh / 2) * h\n",
    "                box_w = bw * w\n",
    "                box_h = bh * h\n",
    "                if box_w <= 0 or box_h <= 0: continue\n",
    "                annotations.append({\n",
    "                    'id': ann_id,\n",
    "                    'image_id': image_id,\n",
    "                    'category_id': 1,\n",
    "                    'bbox': [x, y, box_w, box_h],\n",
    "                    'area': box_w * box_h,\n",
    "                    'iscrowd': 0\n",
    "                })\n",
    "                ann_id += 1\n",
    "        image_id += 1\n",
    "\n",
    "    coco_dict = {\n",
    "        'images': images,\n",
    "        'annotations': annotations,\n",
    "        'categories': categories\n",
    "    }\n",
    "\n",
    "    with open(output_json_path, 'w') as f:\n",
    "        json.dump(coco_dict, f)\n",
    "\n",
    "# Convert train and valid sets\n",
    "yolo_to_coco('/kaggle/input/traffic-dataset/traffic_wala_dataset/train', 'train_coco.json')\n",
    "yolo_to_coco('/kaggle/input/traffic-dataset/traffic_wala_dataset/valid', 'valid_coco.json')\n"
   ]
  },
  {
   "cell_type": "code",
   "execution_count": 1,
   "metadata": {
    "execution": {
     "iopub.execute_input": "2025-06-15T13:51:56.228957Z",
     "iopub.status.busy": "2025-06-15T13:51:56.228377Z",
     "iopub.status.idle": "2025-06-15T13:53:13.655450Z",
     "shell.execute_reply": "2025-06-15T13:53:13.654706Z",
     "shell.execute_reply.started": "2025-06-15T13:51:56.228918Z"
    },
    "trusted": true
   },
   "outputs": [
    {
     "name": "stdout",
     "output_type": "stream",
     "text": [
      "\u001b[2K   \u001b[90m━━━━━━━━━━━━━━━━━━━━━━━━━━━━━━━━━━━━━━━━\u001b[0m \u001b[32m855.8/855.8 kB\u001b[0m \u001b[31m14.9 MB/s\u001b[0m eta \u001b[36m0:00:00\u001b[0ma \u001b[36m0:00:01\u001b[0m\n",
      "\u001b[2K   \u001b[90m━━━━━━━━━━━━━━━━━━━━━━━━━━━━━━━━━━━━━━━━\u001b[0m \u001b[32m165.6/165.6 kB\u001b[0m \u001b[31m10.0 MB/s\u001b[0m eta \u001b[36m0:00:00\u001b[0m\n",
      "\u001b[2K   \u001b[90m━━━━━━━━━━━━━━━━━━━━━━━━━━━━━━━━━━━━━━━━\u001b[0m \u001b[32m154.5/154.5 kB\u001b[0m \u001b[31m6.0 MB/s\u001b[0m eta \u001b[36m0:00:00\u001b[0m\n",
      "\u001b[2K   \u001b[90m━━━━━━━━━━━━━━━━━━━━━━━━━━━━━━━━━━━━━━━━\u001b[0m \u001b[32m363.4/363.4 MB\u001b[0m \u001b[31m4.7 MB/s\u001b[0m eta \u001b[36m0:00:00\u001b[0m0:00:01\u001b[0m00:01\u001b[0m\n",
      "\u001b[2K   \u001b[90m━━━━━━━━━━━━━━━━━━━━━━━━━━━━━━━━━━━━━━━━\u001b[0m \u001b[32m664.8/664.8 MB\u001b[0m \u001b[31m2.5 MB/s\u001b[0m eta \u001b[36m0:00:00\u001b[0m0:00:01\u001b[0m00:01\u001b[0m\n",
      "\u001b[2K   \u001b[90m━━━━━━━━━━━━━━━━━━━━━━━━━━━━━━━━━━━━━━━━\u001b[0m \u001b[32m211.5/211.5 MB\u001b[0m \u001b[31m7.8 MB/s\u001b[0m eta \u001b[36m0:00:00\u001b[0m0:00:01\u001b[0m00:01\u001b[0m\n",
      "\u001b[2K   \u001b[90m━━━━━━━━━━━━━━━━━━━━━━━━━━━━━━━━━━━━━━━━\u001b[0m \u001b[32m56.3/56.3 MB\u001b[0m \u001b[31m29.7 MB/s\u001b[0m eta \u001b[36m0:00:00\u001b[0m:00:01\u001b[0m00:01\u001b[0m\n",
      "\u001b[2K   \u001b[90m━━━━━━━━━━━━━━━━━━━━━━━━━━━━━━━━━━━━━━━━\u001b[0m \u001b[32m127.9/127.9 MB\u001b[0m \u001b[31m13.6 MB/s\u001b[0m eta \u001b[36m0:00:00\u001b[0m:00:01\u001b[0m00:01\u001b[0m\n",
      "\u001b[2K   \u001b[90m━━━━━━━━━━━━━━━━━━━━━━━━━━━━━━━━━━━━━━━━\u001b[0m \u001b[32m207.5/207.5 MB\u001b[0m \u001b[31m6.0 MB/s\u001b[0m eta \u001b[36m0:00:00\u001b[0m0:00:01\u001b[0m00:01\u001b[0m\n",
      "\u001b[2K   \u001b[90m━━━━━━━━━━━━━━━━━━━━━━━━━━━━━━━━━━━━━━━━\u001b[0m \u001b[32m21.1/21.1 MB\u001b[0m \u001b[31m78.2 MB/s\u001b[0m eta \u001b[36m0:00:00\u001b[0m:00:01\u001b[0m00:01\u001b[0m\n",
      "\u001b[?25h"
     ]
    }
   ],
   "source": [
    "!pip install lightly --quiet"
   ]
  },
  {
   "cell_type": "code",
   "execution_count": 2,
   "metadata": {
    "execution": {
     "iopub.execute_input": "2025-06-15T13:53:13.656864Z",
     "iopub.status.busy": "2025-06-15T13:53:13.656619Z",
     "iopub.status.idle": "2025-06-15T13:53:13.851581Z",
     "shell.execute_reply": "2025-06-15T13:53:13.850637Z",
     "shell.execute_reply.started": "2025-06-15T13:53:13.656827Z"
    },
    "trusted": true
   },
   "outputs": [
    {
     "name": "stdout",
     "output_type": "stream",
     "text": [
      "Total images available for SSVL pretraining: 626\n"
     ]
    }
   ],
   "source": [
    "import glob\n",
    "\n",
    "# Define image paths\n",
    "train_images = glob.glob(\"/kaggle/input/traffic-dataset/traffic_wala_dataset/train/images/*.jpg\")\n",
    "val_images = glob.glob(\"/kaggle/input/traffic-dataset/traffic_wala_dataset/valid/images/*.jpg\")\n",
    "\n",
    "all_images = train_images + val_images\n",
    "print(f\"Total images available for SSVL pretraining: {len(all_images)}\")\n"
   ]
  },
  {
   "cell_type": "markdown",
   "metadata": {},
   "source": [
    "## Simsiam creation"
   ]
  },
  {
   "cell_type": "code",
   "execution_count": 3,
   "metadata": {
    "execution": {
     "iopub.execute_input": "2025-06-15T13:53:17.037439Z",
     "iopub.status.busy": "2025-06-15T13:53:17.036727Z",
     "iopub.status.idle": "2025-06-15T13:53:23.406104Z",
     "shell.execute_reply": "2025-06-15T13:53:23.405505Z",
     "shell.execute_reply.started": "2025-06-15T13:53:17.037417Z"
    },
    "trusted": true
   },
   "outputs": [],
   "source": [
    "import torch\n",
    "from PIL import Image\n",
    "from torchvision import transforms\n",
    "from torch.utils.data import Dataset\n",
    "import random\n",
    "\n",
    "class SimSiamTrafficDataset(Dataset):\n",
    "    def __init__(self, image_paths):\n",
    "        self.image_paths = image_paths\n",
    "        self.transform = transforms.Compose([\n",
    "            transforms.RandomResizedCrop(224),\n",
    "            transforms.RandomHorizontalFlip(),\n",
    "            transforms.RandomApply([transforms.ColorJitter()], p=0.8),\n",
    "            transforms.RandomGrayscale(p=0.2),\n",
    "            transforms.ToTensor(),\n",
    "        ])\n",
    "\n",
    "    def __getitem__(self, idx):\n",
    "        img = Image.open(self.image_paths[idx]).convert('RGB')\n",
    "        return self.transform(img), self.transform(img)  # two views\n",
    "\n",
    "    def __len__(self):\n",
    "        return len(self.image_paths)\n"
   ]
  },
  {
   "cell_type": "code",
   "execution_count": 4,
   "metadata": {
    "execution": {
     "iopub.execute_input": "2025-06-15T13:53:23.407543Z",
     "iopub.status.busy": "2025-06-15T13:53:23.407172Z",
     "iopub.status.idle": "2025-06-15T13:53:23.411646Z",
     "shell.execute_reply": "2025-06-15T13:53:23.410909Z",
     "shell.execute_reply.started": "2025-06-15T13:53:23.407519Z"
    },
    "trusted": true
   },
   "outputs": [],
   "source": [
    "dataset = SimSiamTrafficDataset(all_images)\n",
    "dataloader = torch.utils.data.DataLoader(dataset, batch_size=32, shuffle=True, num_workers=4)"
   ]
  },
  {
   "cell_type": "markdown",
   "metadata": {},
   "source": [
    "## SimSiam model setup"
   ]
  },
  {
   "cell_type": "code",
   "execution_count": null,
   "metadata": {
    "execution": {
     "iopub.execute_input": "2025-06-15T13:53:24.020202Z",
     "iopub.status.busy": "2025-06-15T13:53:24.019473Z",
     "iopub.status.idle": "2025-06-15T13:53:29.817275Z",
     "shell.execute_reply": "2025-06-15T13:53:29.816300Z",
     "shell.execute_reply.started": "2025-06-15T13:53:24.020178Z"
    },
    "trusted": true
   },
   "outputs": [
    {
     "name": "stderr",
     "output_type": "stream",
     "text": [
      "/usr/local/lib/python3.11/dist-packages/torchvision/models/_utils.py:208: UserWarning: The parameter 'pretrained' is deprecated since 0.13 and may be removed in the future, please use 'weights' instead.\n",
      "  warnings.warn(\n",
      "/usr/local/lib/python3.11/dist-packages/torchvision/models/_utils.py:223: UserWarning: Arguments other than a weight enum or `None` for 'weights' are deprecated since 0.13 and may be removed in the future. The current behavior is equivalent to passing `weights=ResNet18_Weights.IMAGENET1K_V1`. You can also use `weights=ResNet18_Weights.DEFAULT` to get the most up-to-date weights.\n",
      "  warnings.warn(msg)\n",
      "Downloading: \"https://download.pytorch.org/models/resnet18-f37072fd.pth\" to /root/.cache/torch/hub/checkpoints/resnet18-f37072fd.pth\n",
      "100%|██████████| 44.7M/44.7M [00:00<00:00, 163MB/s] \n",
      "/usr/local/lib/python3.11/dist-packages/lightly/models/simsiam.py:65: Warning: The high-level building block SimSiam will be deprecated in version 1.3.0. Use low-level building blocks instead. See https://docs.lightly.ai/self-supervised-learning/lightly.models.html for more information\n",
      "  warnings.warn(\n"
     ]
    }
   ],
   "source": [
    "import torch.nn as nn\n",
    "import lightly.models as models\n",
    "import lightly.loss as loss\n",
    "import lightly.models.modules.heads as heads\n",
    "import torchvision.models as tv_models\n",
    "import torch.nn as nn\n",
    "\n",
    "class ResNet18Backbone(nn.Module):\n",
    "    def __init__(self):\n",
    "        super().__init__()\n",
    "        resnet = tv_models.resnet18(pretrained=True)\n",
    "        self.features = nn.Sequential(*list(resnet.children())[:-1])  \n",
    "\n",
    "    def forward(self, x):\n",
    "        x = self.features(x)           \n",
    "        return x.view(x.size(0), -1)   \n",
    "\n",
    "backbone = ResNet18Backbone()\n",
    "\n",
    "simsiam_model = models.SimSiam(\n",
    "    backbone,\n",
    "    num_ftrs=512,            \n",
    "    proj_hidden_dim=2048,\n",
    "    pred_hidden_dim=512,\n",
    "    out_dim=2048\n",
    ")\n"
   ]
  },
  {
   "cell_type": "markdown",
   "metadata": {},
   "source": [
    "## Training Simsiam"
   ]
  },
  {
   "cell_type": "code",
   "execution_count": null,
   "metadata": {
    "execution": {
     "iopub.execute_input": "2025-06-15T13:53:32.964390Z",
     "iopub.status.busy": "2025-06-15T13:53:32.963732Z",
     "iopub.status.idle": "2025-06-15T13:56:31.735518Z",
     "shell.execute_reply": "2025-06-15T13:56:31.734440Z",
     "shell.execute_reply.started": "2025-06-15T13:53:32.964365Z"
    },
    "trusted": true
   },
   "outputs": [
    {
     "name": "stderr",
     "output_type": "stream",
     "text": [
      "/usr/local/lib/python3.11/dist-packages/lightly/loss/sym_neg_cos_sim_loss.py:40: Warning: SymNegCosineSimiliarityLoss will be deprecated in favor of NegativeCosineSimilarity in the future.\n",
      "  warnings.warn(\n",
      "Epoch 1/50: 100%|██████████| 20/20 [00:05<00:00,  3.54it/s]\n"
     ]
    },
    {
     "name": "stdout",
     "output_type": "stream",
     "text": [
      "Epoch 1, Loss: -0.0340\n"
     ]
    },
    {
     "name": "stderr",
     "output_type": "stream",
     "text": [
      "Epoch 2/50: 100%|██████████| 20/20 [00:03<00:00,  5.28it/s]\n"
     ]
    },
    {
     "name": "stdout",
     "output_type": "stream",
     "text": [
      "Epoch 2, Loss: -0.1865\n"
     ]
    },
    {
     "name": "stderr",
     "output_type": "stream",
     "text": [
      "Epoch 3/50: 100%|██████████| 20/20 [00:03<00:00,  5.44it/s]\n"
     ]
    },
    {
     "name": "stdout",
     "output_type": "stream",
     "text": [
      "Epoch 3, Loss: -0.4532\n"
     ]
    },
    {
     "name": "stderr",
     "output_type": "stream",
     "text": [
      "Epoch 4/50: 100%|██████████| 20/20 [00:03<00:00,  5.71it/s]\n"
     ]
    },
    {
     "name": "stdout",
     "output_type": "stream",
     "text": [
      "Epoch 4, Loss: -0.6634\n"
     ]
    },
    {
     "name": "stderr",
     "output_type": "stream",
     "text": [
      "Epoch 5/50: 100%|██████████| 20/20 [00:03<00:00,  5.59it/s]\n"
     ]
    },
    {
     "name": "stdout",
     "output_type": "stream",
     "text": [
      "Epoch 5, Loss: -0.7612\n"
     ]
    },
    {
     "name": "stderr",
     "output_type": "stream",
     "text": [
      "Epoch 6/50: 100%|██████████| 20/20 [00:03<00:00,  5.82it/s]\n"
     ]
    },
    {
     "name": "stdout",
     "output_type": "stream",
     "text": [
      "Epoch 6, Loss: -0.8037\n"
     ]
    },
    {
     "name": "stderr",
     "output_type": "stream",
     "text": [
      "Epoch 7/50: 100%|██████████| 20/20 [00:03<00:00,  5.88it/s]\n"
     ]
    },
    {
     "name": "stdout",
     "output_type": "stream",
     "text": [
      "Epoch 7, Loss: -0.8364\n"
     ]
    },
    {
     "name": "stderr",
     "output_type": "stream",
     "text": [
      "Epoch 8/50: 100%|██████████| 20/20 [00:03<00:00,  5.61it/s]\n"
     ]
    },
    {
     "name": "stdout",
     "output_type": "stream",
     "text": [
      "Epoch 8, Loss: -0.8502\n"
     ]
    },
    {
     "name": "stderr",
     "output_type": "stream",
     "text": [
      "Epoch 9/50: 100%|██████████| 20/20 [00:03<00:00,  5.93it/s]\n"
     ]
    },
    {
     "name": "stdout",
     "output_type": "stream",
     "text": [
      "Epoch 9, Loss: -0.8686\n"
     ]
    },
    {
     "name": "stderr",
     "output_type": "stream",
     "text": [
      "Epoch 10/50: 100%|██████████| 20/20 [00:03<00:00,  5.75it/s]\n"
     ]
    },
    {
     "name": "stdout",
     "output_type": "stream",
     "text": [
      "Epoch 10, Loss: -0.8822\n"
     ]
    },
    {
     "name": "stderr",
     "output_type": "stream",
     "text": [
      "Epoch 11/50: 100%|██████████| 20/20 [00:03<00:00,  5.57it/s]\n"
     ]
    },
    {
     "name": "stdout",
     "output_type": "stream",
     "text": [
      "Epoch 11, Loss: -0.8939\n"
     ]
    },
    {
     "name": "stderr",
     "output_type": "stream",
     "text": [
      "Epoch 12/50: 100%|██████████| 20/20 [00:03<00:00,  5.51it/s]\n"
     ]
    },
    {
     "name": "stdout",
     "output_type": "stream",
     "text": [
      "Epoch 12, Loss: -0.9046\n"
     ]
    },
    {
     "name": "stderr",
     "output_type": "stream",
     "text": [
      "Epoch 13/50: 100%|██████████| 20/20 [00:03<00:00,  5.79it/s]\n"
     ]
    },
    {
     "name": "stdout",
     "output_type": "stream",
     "text": [
      "Epoch 13, Loss: -0.8966\n"
     ]
    },
    {
     "name": "stderr",
     "output_type": "stream",
     "text": [
      "Epoch 14/50: 100%|██████████| 20/20 [00:03<00:00,  5.63it/s]\n"
     ]
    },
    {
     "name": "stdout",
     "output_type": "stream",
     "text": [
      "Epoch 14, Loss: -0.9094\n"
     ]
    },
    {
     "name": "stderr",
     "output_type": "stream",
     "text": [
      "Epoch 15/50: 100%|██████████| 20/20 [00:03<00:00,  5.79it/s]\n"
     ]
    },
    {
     "name": "stdout",
     "output_type": "stream",
     "text": [
      "Epoch 15, Loss: -0.9036\n"
     ]
    },
    {
     "name": "stderr",
     "output_type": "stream",
     "text": [
      "Epoch 16/50: 100%|██████████| 20/20 [00:03<00:00,  5.88it/s]\n"
     ]
    },
    {
     "name": "stdout",
     "output_type": "stream",
     "text": [
      "Epoch 16, Loss: -0.9114\n"
     ]
    },
    {
     "name": "stderr",
     "output_type": "stream",
     "text": [
      "Epoch 17/50: 100%|██████████| 20/20 [00:03<00:00,  5.73it/s]\n"
     ]
    },
    {
     "name": "stdout",
     "output_type": "stream",
     "text": [
      "Epoch 17, Loss: -0.9144\n"
     ]
    },
    {
     "name": "stderr",
     "output_type": "stream",
     "text": [
      "Epoch 18/50: 100%|██████████| 20/20 [00:03<00:00,  5.88it/s]\n"
     ]
    },
    {
     "name": "stdout",
     "output_type": "stream",
     "text": [
      "Epoch 18, Loss: -0.9230\n"
     ]
    },
    {
     "name": "stderr",
     "output_type": "stream",
     "text": [
      "Epoch 19/50: 100%|██████████| 20/20 [00:03<00:00,  5.74it/s]\n"
     ]
    },
    {
     "name": "stdout",
     "output_type": "stream",
     "text": [
      "Epoch 19, Loss: -0.9228\n"
     ]
    },
    {
     "name": "stderr",
     "output_type": "stream",
     "text": [
      "Epoch 20/50: 100%|██████████| 20/20 [00:03<00:00,  5.77it/s]\n"
     ]
    },
    {
     "name": "stdout",
     "output_type": "stream",
     "text": [
      "Epoch 20, Loss: -0.9303\n"
     ]
    },
    {
     "name": "stderr",
     "output_type": "stream",
     "text": [
      "Epoch 21/50: 100%|██████████| 20/20 [00:03<00:00,  5.25it/s]\n"
     ]
    },
    {
     "name": "stdout",
     "output_type": "stream",
     "text": [
      "Epoch 21, Loss: -0.9316\n"
     ]
    },
    {
     "name": "stderr",
     "output_type": "stream",
     "text": [
      "Epoch 22/50: 100%|██████████| 20/20 [00:03<00:00,  5.53it/s]\n"
     ]
    },
    {
     "name": "stdout",
     "output_type": "stream",
     "text": [
      "Epoch 22, Loss: -0.9393\n"
     ]
    },
    {
     "name": "stderr",
     "output_type": "stream",
     "text": [
      "Epoch 23/50: 100%|██████████| 20/20 [00:03<00:00,  5.88it/s]\n"
     ]
    },
    {
     "name": "stdout",
     "output_type": "stream",
     "text": [
      "Epoch 23, Loss: -0.9423\n"
     ]
    },
    {
     "name": "stderr",
     "output_type": "stream",
     "text": [
      "Epoch 24/50: 100%|██████████| 20/20 [00:03<00:00,  5.89it/s]\n"
     ]
    },
    {
     "name": "stdout",
     "output_type": "stream",
     "text": [
      "Epoch 24, Loss: -0.9402\n"
     ]
    },
    {
     "name": "stderr",
     "output_type": "stream",
     "text": [
      "Epoch 25/50: 100%|██████████| 20/20 [00:03<00:00,  5.68it/s]\n"
     ]
    },
    {
     "name": "stdout",
     "output_type": "stream",
     "text": [
      "Epoch 25, Loss: -0.9421\n"
     ]
    },
    {
     "name": "stderr",
     "output_type": "stream",
     "text": [
      "Epoch 26/50: 100%|██████████| 20/20 [00:03<00:00,  5.80it/s]\n"
     ]
    },
    {
     "name": "stdout",
     "output_type": "stream",
     "text": [
      "Epoch 26, Loss: -0.9446\n"
     ]
    },
    {
     "name": "stderr",
     "output_type": "stream",
     "text": [
      "Epoch 27/50: 100%|██████████| 20/20 [00:03<00:00,  5.79it/s]\n"
     ]
    },
    {
     "name": "stdout",
     "output_type": "stream",
     "text": [
      "Epoch 27, Loss: -0.9427\n"
     ]
    },
    {
     "name": "stderr",
     "output_type": "stream",
     "text": [
      "Epoch 28/50: 100%|██████████| 20/20 [00:03<00:00,  5.55it/s]\n"
     ]
    },
    {
     "name": "stdout",
     "output_type": "stream",
     "text": [
      "Epoch 28, Loss: -0.9453\n"
     ]
    },
    {
     "name": "stderr",
     "output_type": "stream",
     "text": [
      "Epoch 29/50: 100%|██████████| 20/20 [00:03<00:00,  5.74it/s]\n"
     ]
    },
    {
     "name": "stdout",
     "output_type": "stream",
     "text": [
      "Epoch 29, Loss: -0.9454\n"
     ]
    },
    {
     "name": "stderr",
     "output_type": "stream",
     "text": [
      "Epoch 30/50: 100%|██████████| 20/20 [00:04<00:00,  4.98it/s]\n"
     ]
    },
    {
     "name": "stdout",
     "output_type": "stream",
     "text": [
      "Epoch 30, Loss: -0.9475\n"
     ]
    },
    {
     "name": "stderr",
     "output_type": "stream",
     "text": [
      "Epoch 31/50: 100%|██████████| 20/20 [00:03<00:00,  5.66it/s]\n"
     ]
    },
    {
     "name": "stdout",
     "output_type": "stream",
     "text": [
      "Epoch 31, Loss: -0.9474\n"
     ]
    },
    {
     "name": "stderr",
     "output_type": "stream",
     "text": [
      "Epoch 32/50: 100%|██████████| 20/20 [00:03<00:00,  5.81it/s]\n"
     ]
    },
    {
     "name": "stdout",
     "output_type": "stream",
     "text": [
      "Epoch 32, Loss: -0.9514\n"
     ]
    },
    {
     "name": "stderr",
     "output_type": "stream",
     "text": [
      "Epoch 33/50: 100%|██████████| 20/20 [00:03<00:00,  5.89it/s]\n"
     ]
    },
    {
     "name": "stdout",
     "output_type": "stream",
     "text": [
      "Epoch 33, Loss: -0.9523\n"
     ]
    },
    {
     "name": "stderr",
     "output_type": "stream",
     "text": [
      "Epoch 34/50: 100%|██████████| 20/20 [00:03<00:00,  6.00it/s]\n"
     ]
    },
    {
     "name": "stdout",
     "output_type": "stream",
     "text": [
      "Epoch 34, Loss: -0.9491\n"
     ]
    },
    {
     "name": "stderr",
     "output_type": "stream",
     "text": [
      "Epoch 35/50: 100%|██████████| 20/20 [00:03<00:00,  5.79it/s]\n"
     ]
    },
    {
     "name": "stdout",
     "output_type": "stream",
     "text": [
      "Epoch 35, Loss: -0.9513\n"
     ]
    },
    {
     "name": "stderr",
     "output_type": "stream",
     "text": [
      "Epoch 36/50: 100%|██████████| 20/20 [00:03<00:00,  5.69it/s]\n"
     ]
    },
    {
     "name": "stdout",
     "output_type": "stream",
     "text": [
      "Epoch 36, Loss: -0.9524\n"
     ]
    },
    {
     "name": "stderr",
     "output_type": "stream",
     "text": [
      "Epoch 37/50: 100%|██████████| 20/20 [00:03<00:00,  5.75it/s]\n"
     ]
    },
    {
     "name": "stdout",
     "output_type": "stream",
     "text": [
      "Epoch 37, Loss: -0.9574\n"
     ]
    },
    {
     "name": "stderr",
     "output_type": "stream",
     "text": [
      "Epoch 38/50: 100%|██████████| 20/20 [00:03<00:00,  5.91it/s]\n"
     ]
    },
    {
     "name": "stdout",
     "output_type": "stream",
     "text": [
      "Epoch 38, Loss: -0.9518\n"
     ]
    },
    {
     "name": "stderr",
     "output_type": "stream",
     "text": [
      "Epoch 39/50: 100%|██████████| 20/20 [00:03<00:00,  5.00it/s]\n"
     ]
    },
    {
     "name": "stdout",
     "output_type": "stream",
     "text": [
      "Epoch 39, Loss: -0.9579\n"
     ]
    },
    {
     "name": "stderr",
     "output_type": "stream",
     "text": [
      "Epoch 40/50: 100%|██████████| 20/20 [00:03<00:00,  5.80it/s]\n"
     ]
    },
    {
     "name": "stdout",
     "output_type": "stream",
     "text": [
      "Epoch 40, Loss: -0.9566\n"
     ]
    },
    {
     "name": "stderr",
     "output_type": "stream",
     "text": [
      "Epoch 41/50: 100%|██████████| 20/20 [00:03<00:00,  5.76it/s]\n"
     ]
    },
    {
     "name": "stdout",
     "output_type": "stream",
     "text": [
      "Epoch 41, Loss: -0.9551\n"
     ]
    },
    {
     "name": "stderr",
     "output_type": "stream",
     "text": [
      "Epoch 42/50: 100%|██████████| 20/20 [00:03<00:00,  5.73it/s]\n"
     ]
    },
    {
     "name": "stdout",
     "output_type": "stream",
     "text": [
      "Epoch 42, Loss: -0.9560\n"
     ]
    },
    {
     "name": "stderr",
     "output_type": "stream",
     "text": [
      "Epoch 43/50: 100%|██████████| 20/20 [00:03<00:00,  5.87it/s]\n"
     ]
    },
    {
     "name": "stdout",
     "output_type": "stream",
     "text": [
      "Epoch 43, Loss: -0.9568\n"
     ]
    },
    {
     "name": "stderr",
     "output_type": "stream",
     "text": [
      "Epoch 44/50: 100%|██████████| 20/20 [00:03<00:00,  5.84it/s]\n"
     ]
    },
    {
     "name": "stdout",
     "output_type": "stream",
     "text": [
      "Epoch 44, Loss: -0.9619\n"
     ]
    },
    {
     "name": "stderr",
     "output_type": "stream",
     "text": [
      "Epoch 45/50: 100%|██████████| 20/20 [00:03<00:00,  5.64it/s]\n"
     ]
    },
    {
     "name": "stdout",
     "output_type": "stream",
     "text": [
      "Epoch 45, Loss: -0.9623\n"
     ]
    },
    {
     "name": "stderr",
     "output_type": "stream",
     "text": [
      "Epoch 46/50: 100%|██████████| 20/20 [00:03<00:00,  5.82it/s]\n"
     ]
    },
    {
     "name": "stdout",
     "output_type": "stream",
     "text": [
      "Epoch 46, Loss: -0.9588\n"
     ]
    },
    {
     "name": "stderr",
     "output_type": "stream",
     "text": [
      "Epoch 47/50: 100%|██████████| 20/20 [00:03<00:00,  5.79it/s]\n"
     ]
    },
    {
     "name": "stdout",
     "output_type": "stream",
     "text": [
      "Epoch 47, Loss: -0.9607\n"
     ]
    },
    {
     "name": "stderr",
     "output_type": "stream",
     "text": [
      "Epoch 48/50: 100%|██████████| 20/20 [00:03<00:00,  5.11it/s]\n"
     ]
    },
    {
     "name": "stdout",
     "output_type": "stream",
     "text": [
      "Epoch 48, Loss: -0.9606\n"
     ]
    },
    {
     "name": "stderr",
     "output_type": "stream",
     "text": [
      "Epoch 49/50: 100%|██████████| 20/20 [00:03<00:00,  5.83it/s]\n"
     ]
    },
    {
     "name": "stdout",
     "output_type": "stream",
     "text": [
      "Epoch 49, Loss: -0.9547\n"
     ]
    },
    {
     "name": "stderr",
     "output_type": "stream",
     "text": [
      "Epoch 50/50: 100%|██████████| 20/20 [00:03<00:00,  5.89it/s]"
     ]
    },
    {
     "name": "stdout",
     "output_type": "stream",
     "text": [
      "Epoch 50, Loss: -0.9635\n"
     ]
    },
    {
     "name": "stderr",
     "output_type": "stream",
     "text": [
      "\n"
     ]
    }
   ],
   "source": [
    "import torch\n",
    "from torch.optim import SGD\n",
    "from tqdm import tqdm\n",
    "\n",
    "device = \"cuda\" if torch.cuda.is_available() else \"cpu\"\n",
    "simsiam_model = simsiam_model.to(device)\n",
    "\n",
    "criterion = loss.SymNegCosineSimilarityLoss()\n",
    "optimizer = SGD(simsiam_model.parameters(), lr=0.05, momentum=0.9, weight_decay=1e-4)\n",
    "\n",
    "epochs = 50  \n",
    "\n",
    "for epoch in range(epochs):\n",
    "    total_loss = 0\n",
    "    simsiam_model.train()\n",
    "    \n",
    "    for (x0, x1) in tqdm(dataloader, desc=f\"Epoch {epoch+1}/{epochs}\"):\n",
    "        x0, x1 = x0.to(device), x1.to(device)\n",
    "        out0, out1 = simsiam_model(x0, x1)\n",
    "        loss_val = criterion(out0, out1)\n",
    "        \n",
    "        optimizer.zero_grad()\n",
    "        loss_val.backward()\n",
    "        optimizer.step()\n",
    "        \n",
    "        total_loss += loss_val.item()\n",
    "    \n",
    "    print(f\"Epoch {epoch+1}, Loss: {total_loss / len(dataloader):.4f}\")\n"
   ]
  },
  {
   "cell_type": "code",
   "execution_count": null,
   "metadata": {
    "execution": {
     "iopub.execute_input": "2025-06-15T13:56:36.303494Z",
     "iopub.status.busy": "2025-06-15T13:56:36.303193Z",
     "iopub.status.idle": "2025-06-15T13:56:36.381452Z",
     "shell.execute_reply": "2025-06-15T13:56:36.380833Z",
     "shell.execute_reply.started": "2025-06-15T13:56:36.303467Z"
    },
    "trusted": true
   },
   "outputs": [],
   "source": [
    "encoder_state_dict = simsiam_model.backbone.state_dict()\n",
    "torch.save(encoder_state_dict, \"resnet18_simsiam_encoder.pth\")\n"
   ]
  },
  {
   "cell_type": "markdown",
   "metadata": {},
   "source": [
    "## COCO file create"
   ]
  },
  {
   "cell_type": "code",
   "execution_count": null,
   "metadata": {
    "execution": {
     "iopub.execute_input": "2025-06-15T13:57:41.280549Z",
     "iopub.status.busy": "2025-06-15T13:57:41.279799Z",
     "iopub.status.idle": "2025-06-15T13:57:43.386134Z",
     "shell.execute_reply": "2025-06-15T13:57:43.385353Z",
     "shell.execute_reply.started": "2025-06-15T13:57:41.280523Z"
    },
    "trusted": true
   },
   "outputs": [],
   "source": [
    "import os\n",
    "import json\n",
    "from pathlib import Path\n",
    "from PIL import Image\n",
    "\n",
    "img_dir = Path(\"/kaggle/input/traffic-dataset/traffic_wala_dataset/train/images\")\n",
    "label_dir = Path(\"/kaggle/input/traffic-dataset/traffic_wala_dataset/train/labels\")\n",
    "output_json = \"train_coco.json\"\n",
    "\n",
    "coco = {\n",
    "    \"images\": [],\n",
    "    \"annotations\": [],\n",
    "    \"categories\": [{\"id\": 0, \"name\": \"vehicle\"}],\n",
    "}\n",
    "\n",
    "ann_id = 1\n",
    "for img_id, img_file in enumerate(sorted(img_dir.glob(\"*.jpg\"))):\n",
    "    img = Image.open(img_file)\n",
    "    width, height = img.size\n",
    "    img_name = img_file.name\n",
    "    coco[\"images\"].append({\n",
    "        \"id\": img_id,\n",
    "        \"file_name\": img_name,\n",
    "        \"width\": width,\n",
    "        \"height\": height\n",
    "    })\n",
    "\n",
    "    \n",
    "    label_file = label_dir / img_file.with_suffix('.txt').name\n",
    "    if not label_file.exists():\n",
    "        continue\n",
    "\n",
    "    with open(label_file, 'r') as f:\n",
    "        for line in f:\n",
    "            cls, x_center, y_center, w, h = map(float, line.strip().split())\n",
    "\n",
    "            \n",
    "            x = (x_center - w / 2) * width\n",
    "            y = (y_center - h / 2) * height\n",
    "            box_w = w * width\n",
    "            box_h = h * height\n",
    "\n",
    "            coco[\"annotations\"].append({\n",
    "                \"id\": ann_id,\n",
    "                \"image_id\": img_id,\n",
    "                \"category_id\": 0,\n",
    "                \"bbox\": [x, y, box_w, box_h],\n",
    "                \"area\": box_w * box_h,\n",
    "                \"iscrowd\": 0\n",
    "            })\n",
    "            ann_id += 1\n",
    "\n",
    "with open(output_json, 'w') as f:\n",
    "    json.dump(coco, f)\n"
   ]
  },
  {
   "cell_type": "code",
   "execution_count": null,
   "metadata": {
    "execution": {
     "iopub.execute_input": "2025-06-15T13:57:50.054479Z",
     "iopub.status.busy": "2025-06-15T13:57:50.053728Z",
     "iopub.status.idle": "2025-06-15T13:57:50.445667Z",
     "shell.execute_reply": "2025-06-15T13:57:50.445136Z",
     "shell.execute_reply.started": "2025-06-15T13:57:50.054453Z"
    },
    "trusted": true
   },
   "outputs": [],
   "source": [
    "import os\n",
    "import json\n",
    "from pathlib import Path\n",
    "from PIL import Image\n",
    "\n",
    "img_dir = Path(\"/kaggle/input/traffic-dataset/traffic_wala_dataset/valid/images\")\n",
    "label_dir = Path(\"/kaggle/input/traffic-dataset/traffic_wala_dataset/valid/labels\")\n",
    "output_json = \"val_coco.json\"\n",
    "\n",
    "coco = {\n",
    "    \"images\": [],\n",
    "    \"annotations\": [],\n",
    "    \"categories\": [{\"id\": 0, \"name\": \"vehicle\"}],\n",
    "}\n",
    "\n",
    "ann_id = 1\n",
    "for img_id, img_file in enumerate(sorted(img_dir.glob(\"*.jpg\"))):\n",
    "    img = Image.open(img_file)\n",
    "    width, height = img.size\n",
    "    img_name = img_file.name\n",
    "    coco[\"images\"].append({\n",
    "        \"id\": img_id,\n",
    "        \"file_name\": img_name,\n",
    "        \"width\": width,\n",
    "        \"height\": height\n",
    "    })\n",
    "\n",
    "    \n",
    "    label_file = label_dir / img_file.with_suffix('.txt').name\n",
    "    if not label_file.exists():\n",
    "        continue\n",
    "\n",
    "    with open(label_file, 'r') as f:\n",
    "        for line in f:\n",
    "            cls, x_center, y_center, w, h = map(float, line.strip().split())\n",
    "\n",
    "            \n",
    "            x = (x_center - w / 2) * width\n",
    "            y = (y_center - h / 2) * height\n",
    "            box_w = w * width\n",
    "            box_h = h * height\n",
    "\n",
    "            coco[\"annotations\"].append({\n",
    "                \"id\": ann_id,\n",
    "                \"image_id\": img_id,\n",
    "                \"category_id\": 0,\n",
    "                \"bbox\": [x, y, box_w, box_h],\n",
    "                \"area\": box_w * box_h,\n",
    "                \"iscrowd\": 0\n",
    "            })\n",
    "            ann_id += 1\n",
    "\n",
    "\n",
    "with open(output_json, 'w') as f:\n",
    "    json.dump(coco, f)\n"
   ]
  },
  {
   "cell_type": "code",
   "execution_count": 10,
   "metadata": {
    "execution": {
     "iopub.execute_input": "2025-06-15T13:58:24.374236Z",
     "iopub.status.busy": "2025-06-15T13:58:24.373447Z",
     "iopub.status.idle": "2025-06-15T13:58:27.715101Z",
     "shell.execute_reply": "2025-06-15T13:58:27.714042Z",
     "shell.execute_reply.started": "2025-06-15T13:58:24.374209Z"
    },
    "trusted": true
   },
   "outputs": [],
   "source": [
    "!pip install -q pycocotools torchvision albumentations"
   ]
  },
  {
   "cell_type": "markdown",
   "metadata": {},
   "source": [
    "## using the encoder"
   ]
  },
  {
   "cell_type": "code",
   "execution_count": null,
   "metadata": {
    "execution": {
     "iopub.execute_input": "2025-06-15T14:00:27.515347Z",
     "iopub.status.busy": "2025-06-15T14:00:27.515068Z",
     "iopub.status.idle": "2025-06-15T14:00:27.749149Z",
     "shell.execute_reply": "2025-06-15T14:00:27.748545Z",
     "shell.execute_reply.started": "2025-06-15T14:00:27.515329Z"
    },
    "trusted": true
   },
   "outputs": [],
   "source": [
    "import torch\n",
    "import torch.nn as nn\n",
    "import torchvision.models as tv_models\n",
    "\n",
    "\n",
    "class ResNet18Backbone(nn.Module):\n",
    "    def __init__(self):\n",
    "        super().__init__()\n",
    "        resnet = tv_models.resnet18(pretrained=True)\n",
    "        self.features = nn.Sequential(*list(resnet.children())[:-1]) \n",
    "\n",
    "    def forward(self, x):\n",
    "        x = self.features(x)           \n",
    "        return x.view(x.size(0), -1)   \n",
    "\n",
    "\n",
    "model = ResNet18Backbone()\n",
    "\n",
    "state_dict = torch.load(\"/kaggle/working/resnet18_simsiam_encoder.pth\", map_location=\"cpu\")\n",
    "model.load_state_dict(state_dict) \n",
    "\n",
    "\n",
    "encoder = model\n"
   ]
  },
  {
   "cell_type": "markdown",
   "metadata": {},
   "source": [
    "## Freezing"
   ]
  },
  {
   "cell_type": "code",
   "execution_count": null,
   "metadata": {
    "execution": {
     "iopub.execute_input": "2025-06-15T14:00:33.161879Z",
     "iopub.status.busy": "2025-06-15T14:00:33.161585Z",
     "iopub.status.idle": "2025-06-15T14:00:33.165589Z",
     "shell.execute_reply": "2025-06-15T14:00:33.164993Z",
     "shell.execute_reply.started": "2025-06-15T14:00:33.161839Z"
    },
    "trusted": true
   },
   "outputs": [],
   "source": [
    "for param in encoder.parameters():\n",
    "    param.requires_grad = False\n"
   ]
  },
  {
   "cell_type": "code",
   "execution_count": null,
   "metadata": {
    "execution": {
     "iopub.execute_input": "2025-06-15T14:00:53.708465Z",
     "iopub.status.busy": "2025-06-15T14:00:53.708203Z",
     "iopub.status.idle": "2025-06-15T14:00:53.924214Z",
     "shell.execute_reply": "2025-06-15T14:00:53.923594Z",
     "shell.execute_reply.started": "2025-06-15T14:00:53.708448Z"
    },
    "trusted": true
   },
   "outputs": [],
   "source": [
    "from torchvision.models._utils import IntermediateLayerGetter\n",
    "from torchvision.models.detection.backbone_utils import BackboneWithFPN\n",
    "\n",
    "return_layers = {\n",
    "    'layer1': '0', \n",
    "    'layer2': '1',  \n",
    "    'layer3': '2',  \n",
    "    'layer4': '3'   \n",
    "}\n",
    "body = IntermediateLayerGetter(tv_models.resnet18(pretrained=True), return_layers=return_layers)\n",
    "\n",
    "fpn_backbone = BackboneWithFPN(\n",
    "    backbone=body,\n",
    "    return_layers=return_layers,\n",
    "    in_channels_list=[64, 128, 256, 512],\n",
    "    out_channels=256\n",
    ")\n"
   ]
  },
  {
   "cell_type": "code",
   "execution_count": null,
   "metadata": {
    "execution": {
     "iopub.execute_input": "2025-06-15T14:00:56.421019Z",
     "iopub.status.busy": "2025-06-15T14:00:56.420566Z",
     "iopub.status.idle": "2025-06-15T14:00:56.515305Z",
     "shell.execute_reply": "2025-06-15T14:00:56.514536Z",
     "shell.execute_reply.started": "2025-06-15T14:00:56.420998Z"
    },
    "trusted": true
   },
   "outputs": [],
   "source": [
    "from torchvision.models.detection import RetinaNet\n",
    "\n",
    "model = RetinaNet(\n",
    "    backbone=fpn_backbone,\n",
    "    num_classes=2  \n",
    ")\n"
   ]
  },
  {
   "cell_type": "code",
   "execution_count": 18,
   "metadata": {
    "execution": {
     "iopub.execute_input": "2025-06-15T14:00:58.508313Z",
     "iopub.status.busy": "2025-06-15T14:00:58.508026Z",
     "iopub.status.idle": "2025-06-15T14:00:58.512366Z",
     "shell.execute_reply": "2025-06-15T14:00:58.511699Z",
     "shell.execute_reply.started": "2025-06-15T14:00:58.508294Z"
    },
    "trusted": true
   },
   "outputs": [],
   "source": [
    "for param in model.backbone.body.parameters():\n",
    "    param.requires_grad = False\n"
   ]
  },
  {
   "cell_type": "markdown",
   "metadata": {},
   "source": [
    "## Dataset creation"
   ]
  },
  {
   "cell_type": "code",
   "execution_count": null,
   "metadata": {
    "execution": {
     "iopub.execute_input": "2025-06-15T14:01:01.902388Z",
     "iopub.status.busy": "2025-06-15T14:01:01.901671Z",
     "iopub.status.idle": "2025-06-15T14:01:01.909486Z",
     "shell.execute_reply": "2025-06-15T14:01:01.908670Z",
     "shell.execute_reply.started": "2025-06-15T14:01:01.902364Z"
    },
    "trusted": true
   },
   "outputs": [],
   "source": [
    "from torchvision.datasets import CocoDetection\n",
    "from torchvision import transforms as T\n",
    "import os\n",
    "\n",
    "class COCODetectionDataset(CocoDetection):\n",
    "    def __init__(self, img_folder, ann_file, transforms=None):\n",
    "        super().__init__(img_folder, ann_file)\n",
    "        self._transforms = transforms\n",
    "\n",
    "    def __getitem__(self, idx):\n",
    "        img, target = super().__getitem__(idx)\n",
    "        image_id = self.ids[idx]\n",
    "        target = {'boxes': [], 'labels': [], 'image_id': image_id}\n",
    "\n",
    "        ann_ids = self.coco.getAnnIds(imgIds=image_id)\n",
    "        anns = self.coco.loadAnns(ann_ids)\n",
    "\n",
    "        for ann in anns:\n",
    "            bbox = ann['bbox']  \n",
    "            x, y, w, h = bbox\n",
    "            target['boxes'].append([x, y, x + w, y + h])\n",
    "            target['labels'].append(ann['category_id'])\n",
    "\n",
    "        target['boxes'] = torch.tensor(target['boxes'], dtype=torch.float32)\n",
    "        target['labels'] = torch.tensor(target['labels'], dtype=torch.int64)\n",
    "        target['image_id'] = torch.tensor([image_id])\n",
    "\n",
    "        if self._transforms:\n",
    "            img = self._transforms(img)\n",
    "\n",
    "        return img, target\n",
    "\n",
    "def collate_fn(batch):\n",
    "    return tuple(zip(*batch))\n"
   ]
  },
  {
   "cell_type": "code",
   "execution_count": 20,
   "metadata": {
    "execution": {
     "iopub.execute_input": "2025-06-15T14:01:03.963140Z",
     "iopub.status.busy": "2025-06-15T14:01:03.962831Z",
     "iopub.status.idle": "2025-06-15T14:01:04.013242Z",
     "shell.execute_reply": "2025-06-15T14:01:04.012569Z",
     "shell.execute_reply.started": "2025-06-15T14:01:03.963118Z"
    },
    "trusted": true
   },
   "outputs": [
    {
     "name": "stdout",
     "output_type": "stream",
     "text": [
      "loading annotations into memory...\n",
      "Done (t=0.03s)\n",
      "creating index...\n",
      "index created!\n",
      "loading annotations into memory...\n",
      "Done (t=0.01s)\n",
      "creating index...\n",
      "index created!\n"
     ]
    }
   ],
   "source": [
    "transform = T.Compose([\n",
    "    T.ToTensor()\n",
    "])\n",
    "\n",
    "train_dataset = COCODetectionDataset(\n",
    "    img_folder='/kaggle/input/traffic-dataset/traffic_wala_dataset/train/images',\n",
    "    ann_file='/kaggle/input/coco-format/train_coco.json',\n",
    "    transforms=transform\n",
    ")\n",
    "\n",
    "val_dataset = COCODetectionDataset(\n",
    "    img_folder='/kaggle/input/traffic-dataset/traffic_wala_dataset/valid/images',\n",
    "    ann_file='/kaggle/input/coco-format/val_coco.json',\n",
    "    transforms=transform\n",
    ")\n"
   ]
  },
  {
   "cell_type": "code",
   "execution_count": 21,
   "metadata": {
    "execution": {
     "iopub.execute_input": "2025-06-15T14:01:06.291553Z",
     "iopub.status.busy": "2025-06-15T14:01:06.291046Z",
     "iopub.status.idle": "2025-06-15T14:01:06.296132Z",
     "shell.execute_reply": "2025-06-15T14:01:06.295310Z",
     "shell.execute_reply.started": "2025-06-15T14:01:06.291533Z"
    },
    "trusted": true
   },
   "outputs": [],
   "source": [
    "train_loader = torch.utils.data.DataLoader(\n",
    "    train_dataset,\n",
    "    batch_size=4,\n",
    "    shuffle=True,\n",
    "    num_workers=4,\n",
    "    collate_fn=collate_fn\n",
    ")\n",
    "\n",
    "val_loader = torch.utils.data.DataLoader(\n",
    "    val_dataset,\n",
    "    batch_size=2,\n",
    "    shuffle=False,\n",
    "    num_workers=4,\n",
    "    collate_fn=collate_fn\n",
    ")\n"
   ]
  },
  {
   "cell_type": "markdown",
   "metadata": {},
   "source": [
    "## Training"
   ]
  },
  {
   "cell_type": "code",
   "execution_count": 22,
   "metadata": {
    "execution": {
     "iopub.execute_input": "2025-06-15T14:01:08.917940Z",
     "iopub.status.busy": "2025-06-15T14:01:08.917237Z",
     "iopub.status.idle": "2025-06-15T14:01:08.925904Z",
     "shell.execute_reply": "2025-06-15T14:01:08.925303Z",
     "shell.execute_reply.started": "2025-06-15T14:01:08.917916Z"
    },
    "trusted": true
   },
   "outputs": [],
   "source": [
    "def train_one_epoch(model, optimizer, data_loader, device, epoch, print_freq=10):\n",
    "    model.train()\n",
    "    lr_scheduler = None\n",
    "    if epoch == 0:\n",
    "        warmup_factor = 1.0 / 1000\n",
    "        warmup_iters = min(1000, len(data_loader) - 1)\n",
    "\n",
    "        lr_scheduler = torch.optim.lr_scheduler.LinearLR(\n",
    "            optimizer, start_factor=warmup_factor, total_iters=warmup_iters\n",
    "        )\n",
    "\n",
    "    pbar = tqdm(enumerate(data_loader), total=len(data_loader), desc=f\"Epoch {epoch}\")\n",
    "    for i, (images, targets) in pbar:\n",
    "        images = list(img.to(device) for img in images)\n",
    "        targets = [{k: v.to(device) for k, v in t.items()} for t in targets]\n",
    "\n",
    "        loss_dict = model(images, targets)\n",
    "        losses = sum(loss for loss in loss_dict.values())\n",
    "\n",
    "        optimizer.zero_grad()\n",
    "        losses.backward()\n",
    "        torch.nn.utils.clip_grad_norm_(model.parameters(), max_norm=2.0)\n",
    "        optimizer.step()\n",
    "\n",
    "        if lr_scheduler is not None:\n",
    "            lr_scheduler.step()\n",
    "\n",
    "        pbar.set_postfix(loss=losses.item())\n",
    "\n",
    "@torch.no_grad()\n",
    "def evaluate(model, data_loader, device):\n",
    "    model.eval()\n",
    "    total = 0\n",
    "    pbar = tqdm(data_loader, desc=\"Evaluating\")\n",
    "    for images, targets in pbar:\n",
    "        images = list(img.to(device) for img in images)\n",
    "        targets = [{k: v.to(device) for k, v in t.items()} for t in targets]\n",
    "        outputs = model(images)\n",
    "        total += len(outputs)\n",
    "    print(f\"✅ Evaluation done. Processed {total} images.\")\n"
   ]
  },
  {
   "cell_type": "code",
   "execution_count": null,
   "metadata": {
    "execution": {
     "iopub.execute_input": "2025-06-15T14:01:11.753397Z",
     "iopub.status.busy": "2025-06-15T14:01:11.753130Z",
     "iopub.status.idle": "2025-06-15T15:08:08.421206Z",
     "shell.execute_reply": "2025-06-15T15:08:08.420357Z",
     "shell.execute_reply.started": "2025-06-15T14:01:11.753377Z"
    },
    "trusted": true
   },
   "outputs": [
    {
     "name": "stderr",
     "output_type": "stream",
     "text": [
      "Epoch 0: 100%|██████████| 134/134 [01:14<00:00,  1.80it/s, loss=1.02] \n",
      "Evaluating: 100%|██████████| 45/45 [00:06<00:00,  7.34it/s]"
     ]
    },
    {
     "name": "stdout",
     "output_type": "stream",
     "text": [
      "✅ Evaluation done. Processed 90 images.\n"
     ]
    },
    {
     "name": "stderr",
     "output_type": "stream",
     "text": [
      "\n",
      "Epoch 1: 100%|██████████| 134/134 [01:14<00:00,  1.80it/s, loss=0.991]\n",
      "Evaluating: 100%|██████████| 45/45 [00:06<00:00,  7.46it/s]"
     ]
    },
    {
     "name": "stdout",
     "output_type": "stream",
     "text": [
      "✅ Evaluation done. Processed 90 images.\n"
     ]
    },
    {
     "name": "stderr",
     "output_type": "stream",
     "text": [
      "\n",
      "Epoch 2: 100%|██████████| 134/134 [01:14<00:00,  1.80it/s, loss=0.889]\n",
      "Evaluating: 100%|██████████| 45/45 [00:06<00:00,  7.46it/s]"
     ]
    },
    {
     "name": "stdout",
     "output_type": "stream",
     "text": [
      "✅ Evaluation done. Processed 90 images.\n"
     ]
    },
    {
     "name": "stderr",
     "output_type": "stream",
     "text": [
      "\n",
      "Epoch 3: 100%|██████████| 134/134 [01:14<00:00,  1.80it/s, loss=0.891]\n",
      "Evaluating: 100%|██████████| 45/45 [00:06<00:00,  7.45it/s]"
     ]
    },
    {
     "name": "stdout",
     "output_type": "stream",
     "text": [
      "✅ Evaluation done. Processed 90 images.\n"
     ]
    },
    {
     "name": "stderr",
     "output_type": "stream",
     "text": [
      "\n",
      "Epoch 4: 100%|██████████| 134/134 [01:14<00:00,  1.81it/s, loss=0.685]\n",
      "Evaluating: 100%|██████████| 45/45 [00:06<00:00,  7.44it/s]"
     ]
    },
    {
     "name": "stdout",
     "output_type": "stream",
     "text": [
      "✅ Evaluation done. Processed 90 images.\n"
     ]
    },
    {
     "name": "stderr",
     "output_type": "stream",
     "text": [
      "\n",
      "Epoch 5: 100%|██████████| 134/134 [01:14<00:00,  1.80it/s, loss=0.816]\n",
      "Evaluating: 100%|██████████| 45/45 [00:05<00:00,  7.52it/s]"
     ]
    },
    {
     "name": "stdout",
     "output_type": "stream",
     "text": [
      "✅ Evaluation done. Processed 90 images.\n"
     ]
    },
    {
     "name": "stderr",
     "output_type": "stream",
     "text": [
      "\n",
      "Epoch 6: 100%|██████████| 134/134 [01:14<00:00,  1.81it/s, loss=0.582]\n",
      "Evaluating: 100%|██████████| 45/45 [00:05<00:00,  7.53it/s]"
     ]
    },
    {
     "name": "stdout",
     "output_type": "stream",
     "text": [
      "✅ Evaluation done. Processed 90 images.\n"
     ]
    },
    {
     "name": "stderr",
     "output_type": "stream",
     "text": [
      "\n",
      "Epoch 7: 100%|██████████| 134/134 [01:14<00:00,  1.81it/s, loss=0.598]\n",
      "Evaluating: 100%|██████████| 45/45 [00:05<00:00,  7.56it/s]"
     ]
    },
    {
     "name": "stdout",
     "output_type": "stream",
     "text": [
      "✅ Evaluation done. Processed 90 images.\n"
     ]
    },
    {
     "name": "stderr",
     "output_type": "stream",
     "text": [
      "\n",
      "Epoch 8: 100%|██████████| 134/134 [01:14<00:00,  1.81it/s, loss=0.603]\n",
      "Evaluating: 100%|██████████| 45/45 [00:06<00:00,  7.49it/s]"
     ]
    },
    {
     "name": "stdout",
     "output_type": "stream",
     "text": [
      "✅ Evaluation done. Processed 90 images.\n"
     ]
    },
    {
     "name": "stderr",
     "output_type": "stream",
     "text": [
      "\n",
      "Epoch 9: 100%|██████████| 134/134 [01:14<00:00,  1.81it/s, loss=0.631]\n",
      "Evaluating: 100%|██████████| 45/45 [00:05<00:00,  7.50it/s]"
     ]
    },
    {
     "name": "stdout",
     "output_type": "stream",
     "text": [
      "✅ Evaluation done. Processed 90 images.\n"
     ]
    },
    {
     "name": "stderr",
     "output_type": "stream",
     "text": [
      "\n",
      "Epoch 10: 100%|██████████| 134/134 [01:14<00:00,  1.81it/s, loss=0.428]\n",
      "Evaluating: 100%|██████████| 45/45 [00:05<00:00,  7.52it/s]"
     ]
    },
    {
     "name": "stdout",
     "output_type": "stream",
     "text": [
      "✅ Evaluation done. Processed 90 images.\n"
     ]
    },
    {
     "name": "stderr",
     "output_type": "stream",
     "text": [
      "\n",
      "Epoch 11: 100%|██████████| 134/134 [01:14<00:00,  1.81it/s, loss=0.539]\n",
      "Evaluating: 100%|██████████| 45/45 [00:05<00:00,  7.53it/s]"
     ]
    },
    {
     "name": "stdout",
     "output_type": "stream",
     "text": [
      "✅ Evaluation done. Processed 90 images.\n"
     ]
    },
    {
     "name": "stderr",
     "output_type": "stream",
     "text": [
      "\n",
      "Epoch 12: 100%|██████████| 134/134 [01:14<00:00,  1.81it/s, loss=0.491]\n",
      "Evaluating: 100%|██████████| 45/45 [00:05<00:00,  7.53it/s]"
     ]
    },
    {
     "name": "stdout",
     "output_type": "stream",
     "text": [
      "✅ Evaluation done. Processed 90 images.\n"
     ]
    },
    {
     "name": "stderr",
     "output_type": "stream",
     "text": [
      "\n",
      "Epoch 13: 100%|██████████| 134/134 [01:14<00:00,  1.81it/s, loss=0.407]\n",
      "Evaluating: 100%|██████████| 45/45 [00:05<00:00,  7.58it/s]"
     ]
    },
    {
     "name": "stdout",
     "output_type": "stream",
     "text": [
      "✅ Evaluation done. Processed 90 images.\n"
     ]
    },
    {
     "name": "stderr",
     "output_type": "stream",
     "text": [
      "\n",
      "Epoch 14: 100%|██████████| 134/134 [01:14<00:00,  1.81it/s, loss=0.487]\n",
      "Evaluating: 100%|██████████| 45/45 [00:05<00:00,  7.56it/s]"
     ]
    },
    {
     "name": "stdout",
     "output_type": "stream",
     "text": [
      "✅ Evaluation done. Processed 90 images.\n"
     ]
    },
    {
     "name": "stderr",
     "output_type": "stream",
     "text": [
      "\n",
      "Epoch 15: 100%|██████████| 134/134 [01:14<00:00,  1.81it/s, loss=0.376]\n",
      "Evaluating: 100%|██████████| 45/45 [00:05<00:00,  7.54it/s]"
     ]
    },
    {
     "name": "stdout",
     "output_type": "stream",
     "text": [
      "✅ Evaluation done. Processed 90 images.\n"
     ]
    },
    {
     "name": "stderr",
     "output_type": "stream",
     "text": [
      "\n",
      "Epoch 16: 100%|██████████| 134/134 [01:14<00:00,  1.81it/s, loss=0.361]\n",
      "Evaluating: 100%|██████████| 45/45 [00:05<00:00,  7.52it/s]"
     ]
    },
    {
     "name": "stdout",
     "output_type": "stream",
     "text": [
      "✅ Evaluation done. Processed 90 images.\n"
     ]
    },
    {
     "name": "stderr",
     "output_type": "stream",
     "text": [
      "\n",
      "Epoch 17: 100%|██████████| 134/134 [01:14<00:00,  1.80it/s, loss=0.337]\n",
      "Evaluating: 100%|██████████| 45/45 [00:05<00:00,  7.55it/s]"
     ]
    },
    {
     "name": "stdout",
     "output_type": "stream",
     "text": [
      "✅ Evaluation done. Processed 90 images.\n"
     ]
    },
    {
     "name": "stderr",
     "output_type": "stream",
     "text": [
      "\n",
      "Epoch 18: 100%|██████████| 134/134 [01:14<00:00,  1.81it/s, loss=0.376]\n",
      "Evaluating: 100%|██████████| 45/45 [00:05<00:00,  7.53it/s]"
     ]
    },
    {
     "name": "stdout",
     "output_type": "stream",
     "text": [
      "✅ Evaluation done. Processed 90 images.\n"
     ]
    },
    {
     "name": "stderr",
     "output_type": "stream",
     "text": [
      "\n",
      "Epoch 19: 100%|██████████| 134/134 [01:14<00:00,  1.81it/s, loss=0.402]\n",
      "Evaluating: 100%|██████████| 45/45 [00:06<00:00,  7.46it/s]"
     ]
    },
    {
     "name": "stdout",
     "output_type": "stream",
     "text": [
      "✅ Evaluation done. Processed 90 images.\n"
     ]
    },
    {
     "name": "stderr",
     "output_type": "stream",
     "text": [
      "\n",
      "Epoch 20: 100%|██████████| 134/134 [01:14<00:00,  1.80it/s, loss=0.32] \n",
      "Evaluating: 100%|██████████| 45/45 [00:06<00:00,  7.47it/s]"
     ]
    },
    {
     "name": "stdout",
     "output_type": "stream",
     "text": [
      "✅ Evaluation done. Processed 90 images.\n"
     ]
    },
    {
     "name": "stderr",
     "output_type": "stream",
     "text": [
      "\n",
      "Epoch 21: 100%|██████████| 134/134 [01:14<00:00,  1.80it/s, loss=0.341]\n",
      "Evaluating: 100%|██████████| 45/45 [00:05<00:00,  7.54it/s]\n"
     ]
    },
    {
     "name": "stdout",
     "output_type": "stream",
     "text": [
      "✅ Evaluation done. Processed 90 images.\n"
     ]
    },
    {
     "name": "stderr",
     "output_type": "stream",
     "text": [
      "Epoch 22: 100%|██████████| 134/134 [01:14<00:00,  1.81it/s, loss=0.286]\n",
      "Evaluating: 100%|██████████| 45/45 [00:05<00:00,  7.61it/s]\n"
     ]
    },
    {
     "name": "stdout",
     "output_type": "stream",
     "text": [
      "✅ Evaluation done. Processed 90 images.\n"
     ]
    },
    {
     "name": "stderr",
     "output_type": "stream",
     "text": [
      "Epoch 23: 100%|██████████| 134/134 [01:14<00:00,  1.81it/s, loss=0.258]\n",
      "Evaluating: 100%|██████████| 45/45 [00:06<00:00,  7.47it/s]"
     ]
    },
    {
     "name": "stdout",
     "output_type": "stream",
     "text": [
      "✅ Evaluation done. Processed 90 images.\n"
     ]
    },
    {
     "name": "stderr",
     "output_type": "stream",
     "text": [
      "\n",
      "Epoch 24: 100%|██████████| 134/134 [01:14<00:00,  1.81it/s, loss=0.284]\n",
      "Evaluating: 100%|██████████| 45/45 [00:06<00:00,  7.49it/s]"
     ]
    },
    {
     "name": "stdout",
     "output_type": "stream",
     "text": [
      "✅ Evaluation done. Processed 90 images.\n"
     ]
    },
    {
     "name": "stderr",
     "output_type": "stream",
     "text": [
      "\n",
      "Epoch 25: 100%|██████████| 134/134 [01:14<00:00,  1.81it/s, loss=0.29] \n",
      "Evaluating: 100%|██████████| 45/45 [00:05<00:00,  7.59it/s]"
     ]
    },
    {
     "name": "stdout",
     "output_type": "stream",
     "text": [
      "✅ Evaluation done. Processed 90 images.\n"
     ]
    },
    {
     "name": "stderr",
     "output_type": "stream",
     "text": [
      "\n",
      "Epoch 26: 100%|██████████| 134/134 [01:14<00:00,  1.81it/s, loss=0.265]\n",
      "Evaluating: 100%|██████████| 45/45 [00:05<00:00,  7.56it/s]"
     ]
    },
    {
     "name": "stdout",
     "output_type": "stream",
     "text": [
      "✅ Evaluation done. Processed 90 images.\n"
     ]
    },
    {
     "name": "stderr",
     "output_type": "stream",
     "text": [
      "\n",
      "Epoch 27: 100%|██████████| 134/134 [01:14<00:00,  1.81it/s, loss=0.235]\n",
      "Evaluating: 100%|██████████| 45/45 [00:05<00:00,  7.59it/s]"
     ]
    },
    {
     "name": "stdout",
     "output_type": "stream",
     "text": [
      "✅ Evaluation done. Processed 90 images.\n"
     ]
    },
    {
     "name": "stderr",
     "output_type": "stream",
     "text": [
      "\n",
      "Epoch 28: 100%|██████████| 134/134 [01:14<00:00,  1.80it/s, loss=0.271]\n",
      "Evaluating: 100%|██████████| 45/45 [00:06<00:00,  7.49it/s]"
     ]
    },
    {
     "name": "stdout",
     "output_type": "stream",
     "text": [
      "✅ Evaluation done. Processed 90 images.\n"
     ]
    },
    {
     "name": "stderr",
     "output_type": "stream",
     "text": [
      "\n",
      "Epoch 29: 100%|██████████| 134/134 [01:14<00:00,  1.80it/s, loss=0.247]\n",
      "Evaluating: 100%|██████████| 45/45 [00:05<00:00,  7.55it/s]"
     ]
    },
    {
     "name": "stdout",
     "output_type": "stream",
     "text": [
      "✅ Evaluation done. Processed 90 images.\n"
     ]
    },
    {
     "name": "stderr",
     "output_type": "stream",
     "text": [
      "\n",
      "Epoch 30: 100%|██████████| 134/134 [01:14<00:00,  1.80it/s, loss=0.236]\n",
      "Evaluating: 100%|██████████| 45/45 [00:05<00:00,  7.54it/s]"
     ]
    },
    {
     "name": "stdout",
     "output_type": "stream",
     "text": [
      "✅ Evaluation done. Processed 90 images.\n"
     ]
    },
    {
     "name": "stderr",
     "output_type": "stream",
     "text": [
      "\n",
      "Epoch 31: 100%|██████████| 134/134 [01:14<00:00,  1.81it/s, loss=0.231]\n",
      "Evaluating: 100%|██████████| 45/45 [00:05<00:00,  7.56it/s]"
     ]
    },
    {
     "name": "stdout",
     "output_type": "stream",
     "text": [
      "✅ Evaluation done. Processed 90 images.\n"
     ]
    },
    {
     "name": "stderr",
     "output_type": "stream",
     "text": [
      "\n",
      "Epoch 32: 100%|██████████| 134/134 [01:14<00:00,  1.81it/s, loss=0.19] \n",
      "Evaluating: 100%|██████████| 45/45 [00:05<00:00,  7.56it/s]"
     ]
    },
    {
     "name": "stdout",
     "output_type": "stream",
     "text": [
      "✅ Evaluation done. Processed 90 images.\n"
     ]
    },
    {
     "name": "stderr",
     "output_type": "stream",
     "text": [
      "\n",
      "Epoch 33: 100%|██████████| 134/134 [01:14<00:00,  1.81it/s, loss=0.238]\n",
      "Evaluating: 100%|██████████| 45/45 [00:05<00:00,  7.57it/s]\n"
     ]
    },
    {
     "name": "stdout",
     "output_type": "stream",
     "text": [
      "✅ Evaluation done. Processed 90 images.\n"
     ]
    },
    {
     "name": "stderr",
     "output_type": "stream",
     "text": [
      "Epoch 34: 100%|██████████| 134/134 [01:14<00:00,  1.81it/s, loss=0.22] \n",
      "Evaluating: 100%|██████████| 45/45 [00:05<00:00,  7.55it/s]"
     ]
    },
    {
     "name": "stdout",
     "output_type": "stream",
     "text": [
      "✅ Evaluation done. Processed 90 images.\n"
     ]
    },
    {
     "name": "stderr",
     "output_type": "stream",
     "text": [
      "\n",
      "Epoch 35: 100%|██████████| 134/134 [01:14<00:00,  1.80it/s, loss=0.24] \n",
      "Evaluating: 100%|██████████| 45/45 [00:05<00:00,  7.58it/s]\n"
     ]
    },
    {
     "name": "stdout",
     "output_type": "stream",
     "text": [
      "✅ Evaluation done. Processed 90 images.\n"
     ]
    },
    {
     "name": "stderr",
     "output_type": "stream",
     "text": [
      "Epoch 36: 100%|██████████| 134/134 [01:14<00:00,  1.80it/s, loss=0.227]\n",
      "Evaluating: 100%|██████████| 45/45 [00:05<00:00,  7.57it/s]"
     ]
    },
    {
     "name": "stdout",
     "output_type": "stream",
     "text": [
      "✅ Evaluation done. Processed 90 images.\n"
     ]
    },
    {
     "name": "stderr",
     "output_type": "stream",
     "text": [
      "\n",
      "Epoch 37: 100%|██████████| 134/134 [01:14<00:00,  1.81it/s, loss=0.179]\n",
      "Evaluating: 100%|██████████| 45/45 [00:05<00:00,  7.57it/s]"
     ]
    },
    {
     "name": "stdout",
     "output_type": "stream",
     "text": [
      "✅ Evaluation done. Processed 90 images.\n"
     ]
    },
    {
     "name": "stderr",
     "output_type": "stream",
     "text": [
      "\n",
      "Epoch 38: 100%|██████████| 134/134 [01:14<00:00,  1.81it/s, loss=0.217]\n",
      "Evaluating: 100%|██████████| 45/45 [00:05<00:00,  7.58it/s]"
     ]
    },
    {
     "name": "stdout",
     "output_type": "stream",
     "text": [
      "✅ Evaluation done. Processed 90 images.\n"
     ]
    },
    {
     "name": "stderr",
     "output_type": "stream",
     "text": [
      "\n",
      "Epoch 39: 100%|██████████| 134/134 [01:14<00:00,  1.80it/s, loss=0.248]\n",
      "Evaluating: 100%|██████████| 45/45 [00:05<00:00,  7.62it/s]"
     ]
    },
    {
     "name": "stdout",
     "output_type": "stream",
     "text": [
      "✅ Evaluation done. Processed 90 images.\n"
     ]
    },
    {
     "name": "stderr",
     "output_type": "stream",
     "text": [
      "\n",
      "Epoch 40: 100%|██████████| 134/134 [01:14<00:00,  1.81it/s, loss=0.204]\n",
      "Evaluating: 100%|██████████| 45/45 [00:05<00:00,  7.56it/s]\n"
     ]
    },
    {
     "name": "stdout",
     "output_type": "stream",
     "text": [
      "✅ Evaluation done. Processed 90 images.\n"
     ]
    },
    {
     "name": "stderr",
     "output_type": "stream",
     "text": [
      "Epoch 41: 100%|██████████| 134/134 [01:14<00:00,  1.80it/s, loss=0.262]\n",
      "Evaluating: 100%|██████████| 45/45 [00:05<00:00,  7.58it/s]"
     ]
    },
    {
     "name": "stdout",
     "output_type": "stream",
     "text": [
      "✅ Evaluation done. Processed 90 images.\n"
     ]
    },
    {
     "name": "stderr",
     "output_type": "stream",
     "text": [
      "\n",
      "Epoch 42: 100%|██████████| 134/134 [01:14<00:00,  1.80it/s, loss=0.147]\n",
      "Evaluating: 100%|██████████| 45/45 [00:05<00:00,  7.58it/s]"
     ]
    },
    {
     "name": "stdout",
     "output_type": "stream",
     "text": [
      "✅ Evaluation done. Processed 90 images.\n"
     ]
    },
    {
     "name": "stderr",
     "output_type": "stream",
     "text": [
      "\n",
      "Epoch 43: 100%|██████████| 134/134 [01:14<00:00,  1.80it/s, loss=0.191]\n",
      "Evaluating: 100%|██████████| 45/45 [00:06<00:00,  7.48it/s]"
     ]
    },
    {
     "name": "stdout",
     "output_type": "stream",
     "text": [
      "✅ Evaluation done. Processed 90 images.\n"
     ]
    },
    {
     "name": "stderr",
     "output_type": "stream",
     "text": [
      "\n",
      "Epoch 44: 100%|██████████| 134/134 [01:14<00:00,  1.80it/s, loss=0.272]\n",
      "Evaluating: 100%|██████████| 45/45 [00:05<00:00,  7.56it/s]"
     ]
    },
    {
     "name": "stdout",
     "output_type": "stream",
     "text": [
      "✅ Evaluation done. Processed 90 images.\n"
     ]
    },
    {
     "name": "stderr",
     "output_type": "stream",
     "text": [
      "\n",
      "Epoch 45: 100%|██████████| 134/134 [01:14<00:00,  1.80it/s, loss=0.179]\n",
      "Evaluating: 100%|██████████| 45/45 [00:05<00:00,  7.54it/s]"
     ]
    },
    {
     "name": "stdout",
     "output_type": "stream",
     "text": [
      "✅ Evaluation done. Processed 90 images.\n"
     ]
    },
    {
     "name": "stderr",
     "output_type": "stream",
     "text": [
      "\n",
      "Epoch 46: 100%|██████████| 134/134 [01:14<00:00,  1.80it/s, loss=0.173]\n",
      "Evaluating: 100%|██████████| 45/45 [00:05<00:00,  7.50it/s]"
     ]
    },
    {
     "name": "stdout",
     "output_type": "stream",
     "text": [
      "✅ Evaluation done. Processed 90 images.\n"
     ]
    },
    {
     "name": "stderr",
     "output_type": "stream",
     "text": [
      "\n",
      "Epoch 47: 100%|██████████| 134/134 [01:14<00:00,  1.80it/s, loss=0.173]\n",
      "Evaluating: 100%|██████████| 45/45 [00:06<00:00,  7.40it/s]\n"
     ]
    },
    {
     "name": "stdout",
     "output_type": "stream",
     "text": [
      "✅ Evaluation done. Processed 90 images.\n"
     ]
    },
    {
     "name": "stderr",
     "output_type": "stream",
     "text": [
      "Epoch 48: 100%|██████████| 134/134 [01:14<00:00,  1.80it/s, loss=0.179]\n",
      "Evaluating: 100%|██████████| 45/45 [00:05<00:00,  7.53it/s]"
     ]
    },
    {
     "name": "stdout",
     "output_type": "stream",
     "text": [
      "✅ Evaluation done. Processed 90 images.\n"
     ]
    },
    {
     "name": "stderr",
     "output_type": "stream",
     "text": [
      "\n",
      "Epoch 49: 100%|██████████| 134/134 [01:14<00:00,  1.80it/s, loss=0.171]\n",
      "Evaluating: 100%|██████████| 45/45 [00:05<00:00,  7.53it/s]"
     ]
    },
    {
     "name": "stdout",
     "output_type": "stream",
     "text": [
      "✅ Evaluation done. Processed 90 images.\n"
     ]
    },
    {
     "name": "stderr",
     "output_type": "stream",
     "text": [
      "\n"
     ]
    }
   ],
   "source": [
    "device = torch.device('cuda') if torch.cuda.is_available() else torch.device('cpu')\n",
    "model.to(device)\n",
    "\n",
    "params = [p for p in model.parameters() if p.requires_grad]\n",
    "optimizer = torch.optim.SGD(params, lr=0.005, momentum=0.9, weight_decay=0.0005)\n",
    "\n",
    "num_epochs = 50\n",
    "\n",
    "for epoch in range(num_epochs):\n",
    "    train_one_epoch(model, optimizer, train_loader, device, epoch)\n",
    "    evaluate(model, val_loader, device)\n",
    "\n",
    "\n",
    "torch.save(model.state_dict(), \"retinanet_finetuned_ssvl.pth\")\n"
   ]
  },
  {
   "cell_type": "markdown",
   "metadata": {},
   "source": [
    "## Metrics"
   ]
  },
  {
   "cell_type": "code",
   "execution_count": null,
   "metadata": {
    "execution": {
     "iopub.execute_input": "2025-06-15T15:08:46.936705Z",
     "iopub.status.busy": "2025-06-15T15:08:46.936056Z",
     "iopub.status.idle": "2025-06-15T15:08:54.007062Z",
     "shell.execute_reply": "2025-06-15T15:08:54.006133Z",
     "shell.execute_reply.started": "2025-06-15T15:08:46.936671Z"
    },
    "trusted": true
   },
   "outputs": [
    {
     "name": "stdout",
     "output_type": "stream",
     "text": [
      "loading annotations into memory...\n",
      "Done (t=0.00s)\n",
      "creating index...\n",
      "index created!\n"
     ]
    },
    {
     "name": "stderr",
     "output_type": "stream",
     "text": [
      "Inferencing:   4%|▍         | 2/45 [00:00<00:10,  4.23it/s]"
     ]
    },
    {
     "name": "stdout",
     "output_type": "stream",
     "text": [
      "=== Debug: outputs[0] keys and shapes ===\n",
      " boxes: torch.Size([51, 4])\n",
      " scores: torch.Size([51])\n",
      " labels: torch.Size([51])\n",
      "========================================\n"
     ]
    },
    {
     "name": "stderr",
     "output_type": "stream",
     "text": [
      "Inferencing: 100%|██████████| 45/45 [00:05<00:00,  7.53it/s]\n"
     ]
    },
    {
     "name": "stdout",
     "output_type": "stream",
     "text": [
      "Total detections collected: 3138\n",
      "loading annotations into memory...\n",
      "Done (t=0.01s)\n",
      "creating index...\n",
      "index created!\n",
      "Loading and preparing results...\n",
      "DONE (t=0.01s)\n",
      "creating index...\n",
      "index created!\n",
      "Running per image evaluation...\n",
      "Evaluate annotation type *bbox*\n",
      "DONE (t=0.57s).\n",
      "Accumulating evaluation results...\n",
      "DONE (t=0.03s).\n",
      " Average Precision  (AP) @[ IoU=0.50:0.95 | area=   all | maxDets=100 ] = 0.580\n",
      " Average Precision  (AP) @[ IoU=0.50      | area=   all | maxDets=100 ] = 0.915\n",
      " Average Precision  (AP) @[ IoU=0.75      | area=   all | maxDets=100 ] = 0.674\n",
      " Average Precision  (AP) @[ IoU=0.50:0.95 | area= small | maxDets=100 ] = 0.457\n",
      " Average Precision  (AP) @[ IoU=0.50:0.95 | area=medium | maxDets=100 ] = 0.620\n",
      " Average Precision  (AP) @[ IoU=0.50:0.95 | area= large | maxDets=100 ] = 0.590\n",
      " Average Recall     (AR) @[ IoU=0.50:0.95 | area=   all | maxDets=  1 ] = 0.066\n",
      " Average Recall     (AR) @[ IoU=0.50:0.95 | area=   all | maxDets= 10 ] = 0.446\n",
      " Average Recall     (AR) @[ IoU=0.50:0.95 | area=   all | maxDets=100 ] = 0.658\n",
      " Average Recall     (AR) @[ IoU=0.50:0.95 | area= small | maxDets=100 ] = 0.569\n",
      " Average Recall     (AR) @[ IoU=0.50:0.95 | area=medium | maxDets=100 ] = 0.690\n",
      " Average Recall     (AR) @[ IoU=0.50:0.95 | area= large | maxDets=100 ] = 0.654\n"
     ]
    }
   ],
   "source": [
    "with open(\"val_coco.json\", \"r\") as f:\n",
    "    coco = json.load(f)\n",
    "coco[\"categories\"][0][\"id\"] = 1\n",
    "for ann in coco[\"annotations\"]:\n",
    "    ann[\"category_id\"] = 1\n",
    "with open(\"val_coco_fixed.json\", \"w\") as f:\n",
    "    json.dump(coco, f)\n",
    "\n",
    "class COCODetectionDataset(CocoDetection):\n",
    "    def __init__(self, img_folder, ann_file, transforms=None):\n",
    "        super().__init__(img_folder, ann_file)\n",
    "        self._transforms = transforms\n",
    "    def __getitem__(self, idx):\n",
    "        img, anns = super().__getitem__(idx)\n",
    "        image_id = self.ids[idx]\n",
    "        boxes, labels = [], []\n",
    "        for ann in anns:\n",
    "            x, y, w, h = ann[\"bbox\"]\n",
    "            boxes.append([x, y, x + w, y + h])\n",
    "            labels.append(ann[\"category_id\"]) \n",
    "        target = {\n",
    "            \"boxes\": torch.tensor(boxes, dtype=torch.float32),\n",
    "            \"labels\": torch.tensor(labels, dtype=torch.int64),\n",
    "            \"image_id\": torch.tensor([image_id])\n",
    "        }\n",
    "        if self._transforms:\n",
    "            img = self._transforms(img)\n",
    "        return img, target\n",
    "\n",
    "def collate_fn(batch):\n",
    "    return tuple(zip(*batch))\n",
    "\n",
    "# Build FPN backbone + RetinaNet\n",
    "return_layers = {\"layer1\":\"0\",\"layer2\":\"1\",\"layer3\":\"2\",\"layer4\":\"3\"}\n",
    "body = IntermediateLayerGetter(\n",
    "    tv_models.resnet18(pretrained=False),\n",
    "    return_layers=return_layers\n",
    ")\n",
    "fpn_backbone = BackboneWithFPN(\n",
    "    backbone=body,\n",
    "    return_layers=return_layers,\n",
    "    in_channels_list=[64,128,256,512],\n",
    "    out_channels=256\n",
    ")\n",
    "\n",
    "model = RetinaNet(backbone=fpn_backbone, num_classes=2)  \n",
    "model.load_state_dict(torch.load(\"retinanet_finetuned_ssvl.pth\", map_location=\"cpu\"))\n",
    "device = torch.device(\"cuda\" if torch.cuda.is_available() else \"cpu\")\n",
    "model.to(device).eval()\n",
    "\n",
    "\n",
    "transform = T.Compose([T.ToTensor()])\n",
    "val_ds = COCODetectionDataset(\n",
    "    img_folder=\"/kaggle/input/traffic-dataset/traffic_wala_dataset/valid/images\",\n",
    "    ann_file=\"val_coco_fixed.json\",\n",
    "    transforms=transform\n",
    ")\n",
    "val_loader = DataLoader(val_ds, batch_size=2, shuffle=False,\n",
    "                        num_workers=4, collate_fn=collate_fn)\n",
    "\n",
    "predictions = []\n",
    "with torch.no_grad():\n",
    "    for batch_idx, (images, targets) in enumerate(tqdm(val_loader, desc=\"Inferencing\")):\n",
    "        imgs = [img.to(device) for img in images]\n",
    "        outs = model(imgs)\n",
    "\n",
    "        \n",
    "        if batch_idx == 0:\n",
    "            print(\"=== Debug: outputs[0] keys and shapes ===\")\n",
    "            for k, v in outs[0].items():\n",
    "                print(f\" {k}: {v.shape}\")\n",
    "            print(\"========================================\")\n",
    "\n",
    "        for out, tgt in zip(outs, targets):\n",
    "            img_id = int(tgt[\"image_id\"].item())\n",
    "            boxes = out[\"boxes\"].cpu().tolist()\n",
    "            scores = out[\"scores\"].cpu().tolist()\n",
    "            labels = out[\"labels\"].cpu().tolist()\n",
    "            for box, score, label in zip(boxes, scores, labels):\n",
    "                predictions.append({\n",
    "                    \"image_id\": img_id,\n",
    "                    \"category_id\": label + 1,\n",
    "                    \"bbox\": [box[0], box[1], box[2]-box[0], box[3]-box[1]],\n",
    "                    \"score\": score\n",
    "                })\n",
    "\n",
    "print(f\"Total detections collected: {len(predictions)}\")\n",
    "with open(\"predictions.json\", \"w\") as f:\n",
    "    json.dump(predictions, f)\n",
    "\n",
    "\n",
    "if len(predictions) == 0:\n",
    "    raise RuntimeError(\"No detections found! Check debug output above to see why `outs` might be empty.\")\n",
    "else:\n",
    "    coco_gt = COCO(\"val_coco_fixed.json\")\n",
    "    coco_dt = coco_gt.loadRes(\"predictions.json\")\n",
    "    coco_eval = COCOeval(coco_gt, coco_dt, iouType=\"bbox\")\n",
    "    coco_eval.evaluate()\n",
    "    coco_eval.accumulate()\n",
    "    coco_eval.summarize()\n"
   ]
  },
  {
   "cell_type": "markdown",
   "metadata": {},
   "source": [
    "## Plot"
   ]
  },
  {
   "cell_type": "code",
   "execution_count": null,
   "metadata": {
    "execution": {
     "iopub.execute_input": "2025-06-15T16:51:30.945414Z",
     "iopub.status.busy": "2025-06-15T16:51:30.945130Z",
     "iopub.status.idle": "2025-06-15T16:51:31.095636Z",
     "shell.execute_reply": "2025-06-15T16:51:31.095086Z",
     "shell.execute_reply.started": "2025-06-15T16:51:30.945393Z"
    },
    "trusted": true
   },
   "outputs": [
    {
     "data": {
      "image/png": "[encoded data removed]",
      "text/plain": [
       "<Figure size 640x480 with 1 Axes>"
      ]
     },
     "metadata": {},
     "output_type": "display_data"
    }
   ],
   "source": [
    "plt.hist(scores, bins=20, range=(0, 1), color='skyblue')\n",
    "plt.title(\"Distribution of Detection Scores\")\n",
    "plt.xlabel(\"Confidence\")\n",
    "plt.ylabel(\"Count\")\n",
    "plt.show()\n"
   ]
  },
  {
   "cell_type": "code",
   "execution_count": 5,
   "metadata": {
    "execution": {
     "iopub.execute_input": "2025-06-15T16:56:18.249558Z",
     "iopub.status.busy": "2025-06-15T16:56:18.249044Z",
     "iopub.status.idle": "2025-06-15T16:56:18.258425Z",
     "shell.execute_reply": "2025-06-15T16:56:18.257756Z",
     "shell.execute_reply.started": "2025-06-15T16:56:18.249536Z"
    },
    "trusted": true
   },
   "outputs": [
    {
     "data": {
      "text/plain": [
       "Text(708.4714, 600.9456787109375, 'Class 0 0.06')"
      ]
     },
     "execution_count": 5,
     "metadata": {},
     "output_type": "execute_result"
    }
   ],
   "source": [
    "colors = {1: 'red', 2: 'blue', 3: 'green'}  # extend as needed\n",
    "label_names = {1: \"Vehicle\"}\n",
    "\n",
    "# In loop:\n",
    "color = colors.get(label, \"white\")\n",
    "name = label_names.get(label, f\"Class {label}\")\n",
    "ax.add_patch(patches.Rectangle((x1, y1), x2 - x1, y2 - y1,\n",
    "                               linewidth=2, edgecolor=color, facecolor=\"none\"))\n",
    "ax.text(x1, y1 - 10, f\"{name} {score:.2f}\", color=\"white\",\n",
    "        fontsize=12, weight=\"bold\",\n",
    "        bbox=dict(facecolor=color, edgecolor=\"none\", boxstyle=\"round,pad=0.3\"))\n"
   ]
  },
  {
   "cell_type": "markdown",
   "metadata": {},
   "source": [
    "## Video Testing"
   ]
  },
  {
   "cell_type": "code",
   "execution_count": 1,
   "metadata": {
    "execution": {
     "iopub.execute_input": "2025-06-15T17:34:01.295553Z",
     "iopub.status.busy": "2025-06-15T17:34:01.294991Z",
     "iopub.status.idle": "2025-06-15T17:35:54.696705Z",
     "shell.execute_reply": "2025-06-15T17:35:54.696057Z",
     "shell.execute_reply.started": "2025-06-15T17:34:01.295528Z"
    },
    "trusted": true
   },
   "outputs": [
    {
     "name": "stderr",
     "output_type": "stream",
     "text": [
      "/usr/local/lib/python3.11/dist-packages/torchvision/models/_utils.py:208: UserWarning: The parameter 'pretrained' is deprecated since 0.13 and may be removed in the future, please use 'weights' instead.\n",
      "  warnings.warn(\n",
      "/usr/local/lib/python3.11/dist-packages/torchvision/models/_utils.py:223: UserWarning: Arguments other than a weight enum or `None` for 'weights' are deprecated since 0.13 and may be removed in the future. The current behavior is equivalent to passing `weights=None`.\n",
      "  warnings.warn(msg)\n"
     ]
    },
    {
     "name": "stdout",
     "output_type": "stream",
     "text": [
      "✅ Detection complete! Output saved as 'output_detected.mp4'\n"
     ]
    }
   ],
   "source": [
    "import cv2\n",
    "import torch\n",
    "from torchvision import transforms as T\n",
    "from torchvision.models.detection import RetinaNet\n",
    "from torchvision.models.detection.backbone_utils import BackboneWithFPN\n",
    "from torchvision.models._utils import IntermediateLayerGetter\n",
    "import torchvision.models as tv_models\n",
    "from PIL import Image\n",
    "\n",
    "# Set device\n",
    "device = torch.device(\"cuda\" if torch.cuda.is_available() else \"cpu\")\n",
    "\n",
    "# Load RetinaNet model\n",
    "return_layers = {\"layer1\": \"0\", \"layer2\": \"1\", \"layer3\": \"2\", \"layer4\": \"3\"}\n",
    "body = IntermediateLayerGetter(\n",
    "    tv_models.resnet18(pretrained=False),\n",
    "    return_layers=return_layers\n",
    ")\n",
    "fpn_backbone = BackboneWithFPN(\n",
    "    backbone=body,\n",
    "    return_layers=return_layers,\n",
    "    in_channels_list=[64, 128, 256, 512],\n",
    "    out_channels=256\n",
    ")\n",
    "model = RetinaNet(backbone=fpn_backbone, num_classes=2)\n",
    "model.load_state_dict(torch.load(\"/kaggle/input/final-model/pytorch/default/1/retinanet_finetuned_ssvl.pth\", map_location=device))\n",
    "model.to(device).eval()\n",
    "\n",
    "# Video settings\n",
    "video_path = \"/kaggle/input/vidtryyy/56310-479197605_small.mp4\"\n",
    "cap = cv2.VideoCapture(video_path)\n",
    "\n",
    "# Save output\n",
    "fourcc = cv2.VideoWriter_fourcc(*'mp4v')\n",
    "out = cv2.VideoWriter('output_detected.mp4', fourcc, 30.0,\n",
    "                      (int(cap.get(cv2.CAP_PROP_FRAME_WIDTH)), int(cap.get(cv2.CAP_PROP_FRAME_HEIGHT))))\n",
    "\n",
    "# Transform\n",
    "transform = T.Compose([T.ToTensor()])\n",
    "threshold = 0.3  # Confidence threshold\n",
    "\n",
    "# Process video\n",
    "while cap.isOpened():\n",
    "    ret, frame = cap.read()\n",
    "    if not ret:\n",
    "        break\n",
    "\n",
    "    # Convert frame to tensor\n",
    "    rgb_frame = cv2.cvtColor(frame, cv2.COLOR_BGR2RGB)\n",
    "    pil_img = Image.fromarray(rgb_frame)\n",
    "    input_tensor = transform(pil_img).to(device)\n",
    "\n",
    "    with torch.no_grad():\n",
    "        output = model([input_tensor])[0]\n",
    "\n",
    "    boxes = output[\"boxes\"].cpu().numpy()\n",
    "    scores = output[\"scores\"].cpu().numpy()\n",
    "\n",
    "    # Draw boxes\n",
    "    for box, score in zip(boxes, scores):\n",
    "        if score < threshold:\n",
    "            continue\n",
    "        x1, y1, x2, y2 = map(int, box)\n",
    "        cv2.rectangle(frame, (x1, y1), (x2, y2), (0, 0, 255), 2)\n",
    "        cv2.putText(frame, f\"Vehicle {score:.2f}\", (x1, y1 - 5),\n",
    "                    cv2.FONT_HERSHEY_SIMPLEX, 0.5, (36, 255, 12), 2)\n",
    "\n",
    "    out.write(frame)\n",
    "\n",
    "cap.release()\n",
    "out.release()\n",
    "cv2.destroyAllWindows()\n",
    "print(\"✅ Detection complete! Output saved as 'output_detected.mp4'\")\n"
   ]
  },
  {
   "cell_type": "code",
   "execution_count": null,
   "metadata": {
    "trusted": true
   },
   "outputs": [],
   "source": []
  }
 ],
 "metadata": {
  "kaggle": {
   "accelerator": "gpu",
   "dataSources": [
    {
     "datasetId": 7640980,
     "sourceId": 12133461,
     "sourceType": "datasetVersion"
    },
    {
     "datasetId": 7666097,
     "sourceId": 12172052,
     "sourceType": "datasetVersion"
    },
    {
     "datasetId": 7668262,
     "sourceId": 12175672,
     "sourceType": "datasetVersion"
    },
    {
     "datasetId": 7668506,
     "sourceId": 12176030,
     "sourceType": "datasetVersion"
    },
    {
     "isSourceIdPinned": false,
     "modelId": 376987,
     "modelInstanceId": 355687,
     "sourceId": 436107,
     "sourceType": "modelInstanceVersion"
    }
   ],
   "dockerImageVersionId": 31041,
   "isGpuEnabled": true,
   "isInternetEnabled": true,
   "language": "python",
   "sourceType": "notebook"
  },
  "kernelspec": {
   "display_name": "Python 3",
   "language": "python",
   "name": "python3"
  },
  "language_info": {
   "codemirror_mode": {
    "name": "ipython",
    "version": 3
   },
   "file_extension": ".py",
   "mimetype": "text/x-python",
   "name": "python",
   "nbconvert_exporter": "python",
   "pygments_lexer": "ipython3",
   "version": "3.11.11"
  }
 },
 "nbformat": 4,
 "nbformat_minor": 4
}
